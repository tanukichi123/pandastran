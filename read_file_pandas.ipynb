{
 "cells": [
  {
   "cell_type": "code",
   "execution_count": 169,
   "metadata": {
    "ExecuteTime": {
     "end_time": "2018-11-26T11:04:22.304640Z",
     "start_time": "2018-11-26T11:04:21.492724Z"
    }
   },
   "outputs": [],
   "source": [
    "! code ."
   ]
  },
  {
   "cell_type": "markdown",
   "metadata": {},
   "source": [
    "## Read Nastran input file"
   ]
  },
  {
   "cell_type": "markdown",
   "metadata": {},
   "source": [
    "from pyNastran\\bdf\\bdf_interface\\pybdf.py _show_bad_file"
   ]
  },
  {
   "cell_type": "code",
   "execution_count": 1,
   "metadata": {
    "ExecuteTime": {
     "end_time": "2018-11-26T12:03:50.303760Z",
     "start_time": "2018-11-26T12:03:49.765094Z"
    }
   },
   "outputs": [],
   "source": [
    "import pandastran"
   ]
  },
  {
   "cell_type": "code",
   "execution_count": 2,
   "metadata": {
    "ExecuteTime": {
     "end_time": "2018-11-26T12:03:51.155238Z",
     "start_time": "2018-11-26T12:03:51.151241Z"
    }
   },
   "outputs": [],
   "source": [
    "self=pandastran.pandastran()"
   ]
  },
  {
   "cell_type": "code",
   "execution_count": 13,
   "metadata": {
    "ExecuteTime": {
     "end_time": "2018-11-26T12:07:16.034606Z",
     "start_time": "2018-11-26T12:07:16.004626Z"
    }
   },
   "outputs": [
    {
     "data": {
      "text/html": [
       "<div>\n",
       "<style scoped>\n",
       "    .dataframe tbody tr th:only-of-type {\n",
       "        vertical-align: middle;\n",
       "    }\n",
       "\n",
       "    .dataframe tbody tr th {\n",
       "        vertical-align: top;\n",
       "    }\n",
       "\n",
       "    .dataframe thead th {\n",
       "        text-align: right;\n",
       "    }\n",
       "</style>\n",
       "<table border=\"1\" class=\"dataframe\">\n",
       "  <thead>\n",
       "    <tr style=\"text-align: right;\">\n",
       "      <th></th>\n",
       "      <th>text</th>\n",
       "    </tr>\n",
       "  </thead>\n",
       "  <tbody>\n",
       "    <tr>\n",
       "      <th>0</th>\n",
       "      <td>$NASTRAN Data File Generated from OpenVSP 3.16.2</td>\n",
       "    </tr>\n",
       "    <tr>\n",
       "      <th>1</th>\n",
       "      <td>$Num_Tris: 3492</td>\n",
       "    </tr>\n",
       "  </tbody>\n",
       "</table>\n",
       "</div>"
      ],
      "text/plain": [
       "                                               text\n",
       "0  $NASTRAN Data File Generated from OpenVSP 3.16.2\n",
       "1                                   $Num_Tris: 3492"
      ]
     },
     "execution_count": 13,
     "metadata": {},
     "output_type": "execute_result"
    }
   ],
   "source": [
    "self.read_file(\"test_openvsp.dat\")\n",
    "self.df_in.head(2)"
   ]
  },
  {
   "cell_type": "markdown",
   "metadata": {},
   "source": [
    "## out_file"
   ]
  },
  {
   "cell_type": "code",
   "execution_count": 14,
   "metadata": {
    "ExecuteTime": {
     "end_time": "2018-11-26T12:07:16.825539Z",
     "start_time": "2018-11-26T12:07:16.821541Z"
    }
   },
   "outputs": [],
   "source": [
    "df_out=self.df_in"
   ]
  },
  {
   "cell_type": "code",
   "execution_count": 15,
   "metadata": {
    "ExecuteTime": {
     "end_time": "2018-11-26T12:07:17.376083Z",
     "start_time": "2018-11-26T12:07:17.351099Z"
    }
   },
   "outputs": [
    {
     "name": "stdout",
     "output_type": "stream",
     "text": [
      "out file out_file.dat\n"
     ]
    }
   ],
   "source": [
    "self.write_file(df_out)"
   ]
  },
  {
   "cell_type": "markdown",
   "metadata": {},
   "source": [
    "## make card df"
   ]
  },
  {
   "cell_type": "code",
   "execution_count": 16,
   "metadata": {
    "ExecuteTime": {
     "end_time": "2018-11-26T12:07:56.290934Z",
     "start_time": "2018-11-26T12:07:56.226974Z"
    }
   },
   "outputs": [
    {
     "data": {
      "text/html": [
       "<div>\n",
       "<style scoped>\n",
       "    .dataframe tbody tr th:only-of-type {\n",
       "        vertical-align: middle;\n",
       "    }\n",
       "\n",
       "    .dataframe tbody tr th {\n",
       "        vertical-align: top;\n",
       "    }\n",
       "\n",
       "    .dataframe thead th {\n",
       "        text-align: right;\n",
       "    }\n",
       "</style>\n",
       "<table border=\"1\" class=\"dataframe\">\n",
       "  <thead>\n",
       "    <tr style=\"text-align: right;\">\n",
       "      <th></th>\n",
       "      <th>name</th>\n",
       "      <th>id</th>\n",
       "      <th>zahyo_kei</th>\n",
       "      <th>x</th>\n",
       "      <th>y</th>\n",
       "      <th>z</th>\n",
       "    </tr>\n",
       "  </thead>\n",
       "  <tbody>\n",
       "    <tr>\n",
       "      <th>1174</th>\n",
       "      <td>GRID</td>\n",
       "      <td>1</td>\n",
       "      <td></td>\n",
       "      <td>0.00000</td>\n",
       "      <td>0.00000</td>\n",
       "      <td>0.00000</td>\n",
       "    </tr>\n",
       "    <tr>\n",
       "      <th>1175</th>\n",
       "      <td>GRID</td>\n",
       "      <td>2</td>\n",
       "      <td></td>\n",
       "      <td>0.06571</td>\n",
       "      <td>0.00000</td>\n",
       "      <td>0.07404</td>\n",
       "    </tr>\n",
       "    <tr>\n",
       "      <th>1176</th>\n",
       "      <td>GRID</td>\n",
       "      <td>3</td>\n",
       "      <td></td>\n",
       "      <td>0.06571</td>\n",
       "      <td>0.07404</td>\n",
       "      <td>0.00000</td>\n",
       "    </tr>\n",
       "    <tr>\n",
       "      <th>1177</th>\n",
       "      <td>GRID</td>\n",
       "      <td>4</td>\n",
       "      <td></td>\n",
       "      <td>0.03285</td>\n",
       "      <td>0.00000</td>\n",
       "      <td>0.03702</td>\n",
       "    </tr>\n",
       "    <tr>\n",
       "      <th>1178</th>\n",
       "      <td>GRID</td>\n",
       "      <td>5</td>\n",
       "      <td></td>\n",
       "      <td>0.06571</td>\n",
       "      <td>0.03702</td>\n",
       "      <td>0.03702</td>\n",
       "    </tr>\n",
       "  </tbody>\n",
       "</table>\n",
       "</div>"
      ],
      "text/plain": [
       "      name        id zahyo_kei         x         y         z\n",
       "1174  GRID         1             0.00000   0.00000   0.00000\n",
       "1175  GRID         2             0.06571   0.00000   0.07404\n",
       "1176  GRID         3             0.06571   0.07404   0.00000\n",
       "1177  GRID         4             0.03285   0.00000   0.03702\n",
       "1178  GRID         5             0.06571   0.03702   0.03702"
      ]
     },
     "execution_count": 16,
     "metadata": {},
     "output_type": "execute_result"
    }
   ],
   "source": [
    "df_GRID=self._make_df_card(\"GRID\")\n",
    "df_GRID = self._separate_open_vsp(df_GRID)\n",
    "df_GRID.columns = [\"name\",\"id\",\"zahyo_kei\",\"x\",\"y\",\"z\"]\n",
    "df_GRID.head()"
   ]
  },
  {
   "cell_type": "markdown",
   "metadata": {},
   "source": [
    "## 8moji"
   ]
  },
  {
   "cell_type": "code",
   "execution_count": 18,
   "metadata": {
    "ExecuteTime": {
     "end_time": "2018-11-26T12:08:20.159775Z",
     "start_time": "2018-11-26T12:08:20.124798Z"
    }
   },
   "outputs": [
    {
     "data": {
      "text/html": [
       "<div>\n",
       "<style scoped>\n",
       "    .dataframe tbody tr th:only-of-type {\n",
       "        vertical-align: middle;\n",
       "    }\n",
       "\n",
       "    .dataframe tbody tr th {\n",
       "        vertical-align: top;\n",
       "    }\n",
       "\n",
       "    .dataframe thead th {\n",
       "        text-align: right;\n",
       "    }\n",
       "</style>\n",
       "<table border=\"1\" class=\"dataframe\">\n",
       "  <thead>\n",
       "    <tr style=\"text-align: right;\">\n",
       "      <th></th>\n",
       "      <th>name</th>\n",
       "      <th>id</th>\n",
       "      <th>zahyo_kei</th>\n",
       "      <th>x</th>\n",
       "      <th>y</th>\n",
       "      <th>z</th>\n",
       "    </tr>\n",
       "  </thead>\n",
       "  <tbody>\n",
       "    <tr>\n",
       "      <th>1174</th>\n",
       "      <td>GRID</td>\n",
       "      <td>1</td>\n",
       "      <td></td>\n",
       "      <td>0.00000</td>\n",
       "      <td>0.00000</td>\n",
       "      <td>0.00000</td>\n",
       "    </tr>\n",
       "    <tr>\n",
       "      <th>1175</th>\n",
       "      <td>GRID</td>\n",
       "      <td>2</td>\n",
       "      <td></td>\n",
       "      <td>0.06571</td>\n",
       "      <td>0.00000</td>\n",
       "      <td>0.07404</td>\n",
       "    </tr>\n",
       "    <tr>\n",
       "      <th>1176</th>\n",
       "      <td>GRID</td>\n",
       "      <td>3</td>\n",
       "      <td></td>\n",
       "      <td>0.06571</td>\n",
       "      <td>0.07404</td>\n",
       "      <td>0.00000</td>\n",
       "    </tr>\n",
       "    <tr>\n",
       "      <th>1177</th>\n",
       "      <td>GRID</td>\n",
       "      <td>4</td>\n",
       "      <td></td>\n",
       "      <td>0.03285</td>\n",
       "      <td>0.00000</td>\n",
       "      <td>0.03702</td>\n",
       "    </tr>\n",
       "    <tr>\n",
       "      <th>1178</th>\n",
       "      <td>GRID</td>\n",
       "      <td>5</td>\n",
       "      <td></td>\n",
       "      <td>0.06571</td>\n",
       "      <td>0.03702</td>\n",
       "      <td>0.03702</td>\n",
       "    </tr>\n",
       "  </tbody>\n",
       "</table>\n",
       "</div>"
      ],
      "text/plain": [
       "          name        id zahyo_kei         x         y         z\n",
       "1174  GRID             1             0.00000   0.00000   0.00000\n",
       "1175  GRID             2             0.06571   0.00000   0.07404\n",
       "1176  GRID             3             0.06571   0.07404   0.00000\n",
       "1177  GRID             4             0.03285   0.00000   0.03702\n",
       "1178  GRID             5             0.06571   0.03702   0.03702"
      ]
     },
     "execution_count": 18,
     "metadata": {},
     "output_type": "execute_result"
    }
   ],
   "source": [
    "df_GRID = self._eight_moji(df_GRID)\n",
    "df_GRID.head()"
   ]
  },
  {
   "cell_type": "markdown",
   "metadata": {},
   "source": [
    "## create output file"
   ]
  },
  {
   "cell_type": "code",
   "execution_count": 19,
   "metadata": {
    "ExecuteTime": {
     "end_time": "2018-11-26T12:08:31.017611Z",
     "start_time": "2018-11-26T12:08:30.833725Z"
    }
   },
   "outputs": [
    {
     "data": {
      "text/html": [
       "<div>\n",
       "<style scoped>\n",
       "    .dataframe tbody tr th:only-of-type {\n",
       "        vertical-align: middle;\n",
       "    }\n",
       "\n",
       "    .dataframe tbody tr th {\n",
       "        vertical-align: top;\n",
       "    }\n",
       "\n",
       "    .dataframe thead th {\n",
       "        text-align: right;\n",
       "    }\n",
       "</style>\n",
       "<table border=\"1\" class=\"dataframe\">\n",
       "  <thead>\n",
       "    <tr style=\"text-align: right;\">\n",
       "      <th></th>\n",
       "      <th>text</th>\n",
       "    </tr>\n",
       "  </thead>\n",
       "  <tbody>\n",
       "    <tr>\n",
       "      <th>1174</th>\n",
       "      <td>GRID           1         0.00000 0.00000 0.00000</td>\n",
       "    </tr>\n",
       "    <tr>\n",
       "      <th>1175</th>\n",
       "      <td>GRID           2         0.06571 0.00000 0.07404</td>\n",
       "    </tr>\n",
       "    <tr>\n",
       "      <th>1176</th>\n",
       "      <td>GRID           3         0.06571 0.07404 0.00000</td>\n",
       "    </tr>\n",
       "    <tr>\n",
       "      <th>1177</th>\n",
       "      <td>GRID           4         0.03285 0.00000 0.03702</td>\n",
       "    </tr>\n",
       "    <tr>\n",
       "      <th>1178</th>\n",
       "      <td>GRID           5         0.06571 0.03702 0.03702</td>\n",
       "    </tr>\n",
       "  </tbody>\n",
       "</table>\n",
       "</div>"
      ],
      "text/plain": [
       "                                                  text\n",
       "1174  GRID           1         0.00000 0.00000 0.00000\n",
       "1175  GRID           2         0.06571 0.00000 0.07404\n",
       "1176  GRID           3         0.06571 0.07404 0.00000\n",
       "1177  GRID           4         0.03285 0.00000 0.03702\n",
       "1178  GRID           5         0.06571 0.03702 0.03702"
      ]
     },
     "execution_count": 19,
     "metadata": {},
     "output_type": "execute_result"
    }
   ],
   "source": [
    "df_GRID = self._create_output_row(df_GRID)\n",
    "df_GRID.head()"
   ]
  },
  {
   "cell_type": "code",
   "execution_count": 20,
   "metadata": {
    "ExecuteTime": {
     "end_time": "2018-11-26T12:09:28.957602Z",
     "start_time": "2018-11-26T12:09:28.933620Z"
    },
    "scrolled": true
   },
   "outputs": [
    {
     "name": "stdout",
     "output_type": "stream",
     "text": [
      "out file out_file.dat\n"
     ]
    }
   ],
   "source": [
    "self.write_file(df_GRID)"
   ]
  },
  {
   "cell_type": "markdown",
   "metadata": {},
   "source": [
    "## factory"
   ]
  },
  {
   "cell_type": "markdown",
   "metadata": {},
   "source": [
    "### header"
   ]
  },
  {
   "cell_type": "code",
   "execution_count": 8,
   "metadata": {
    "ExecuteTime": {
     "end_time": "2018-11-23T01:43:53.851776Z",
     "start_time": "2018-11-23T01:43:53.827791Z"
    }
   },
   "outputs": [
    {
     "data": {
      "text/html": [
       "<div>\n",
       "<style scoped>\n",
       "    .dataframe tbody tr th:only-of-type {\n",
       "        vertical-align: middle;\n",
       "    }\n",
       "\n",
       "    .dataframe tbody tr th {\n",
       "        vertical-align: top;\n",
       "    }\n",
       "\n",
       "    .dataframe thead th {\n",
       "        text-align: right;\n",
       "    }\n",
       "</style>\n",
       "<table border=\"1\" class=\"dataframe\">\n",
       "  <thead>\n",
       "    <tr style=\"text-align: right;\">\n",
       "      <th></th>\n",
       "      <th>text</th>\n",
       "    </tr>\n",
       "  </thead>\n",
       "  <tbody>\n",
       "    <tr>\n",
       "      <th>1166</th>\n",
       "      <td>10443,10444,10445,10446,10447,10448,10449,1045...</td>\n",
       "    </tr>\n",
       "    <tr>\n",
       "      <th>1167</th>\n",
       "      <td>10452,10453,10454,10455,10456,10457,10458,1045...</td>\n",
       "    </tr>\n",
       "    <tr>\n",
       "      <th>1168</th>\n",
       "      <td>10461,10462,10463,10464,10465,10466,10467,1046...</td>\n",
       "    </tr>\n",
       "    <tr>\n",
       "      <th>1169</th>\n",
       "      <td>10470,10471,10472,10473,10474,10475,10476,1047...</td>\n",
       "    </tr>\n",
       "    <tr>\n",
       "      <th>1170</th>\n",
       "      <td>\\n</td>\n",
       "    </tr>\n",
       "  </tbody>\n",
       "</table>\n",
       "</div>"
      ],
      "text/plain": [
       "                                                   text\n",
       "1166  10443,10444,10445,10446,10447,10448,10449,1045...\n",
       "1167  10452,10453,10454,10455,10456,10457,10458,1045...\n",
       "1168  10461,10462,10463,10464,10465,10466,10467,1046...\n",
       "1169  10470,10471,10472,10473,10474,10475,10476,1047...\n",
       "1170                                                 \\n"
      ]
     },
     "execution_count": 8,
     "metadata": {},
     "output_type": "execute_result"
    }
   ],
   "source": [
    "header_num = df[df[\"text\"].str.contains('BEGIN BULK')].index[0]\n",
    "header = df[:header_num]\n",
    "header.tail()"
   ]
  },
  {
   "cell_type": "markdown",
   "metadata": {},
   "source": [
    "### GRID(open vsp)"
   ]
  },
  {
   "cell_type": "code",
   "execution_count": 9,
   "metadata": {
    "ExecuteTime": {
     "end_time": "2018-11-23T01:43:55.076052Z",
     "start_time": "2018-11-23T01:43:55.024085Z"
    }
   },
   "outputs": [
    {
     "data": {
      "text/html": [
       "<div>\n",
       "<style scoped>\n",
       "    .dataframe tbody tr th:only-of-type {\n",
       "        vertical-align: middle;\n",
       "    }\n",
       "\n",
       "    .dataframe tbody tr th {\n",
       "        vertical-align: top;\n",
       "    }\n",
       "\n",
       "    .dataframe thead th {\n",
       "        text-align: right;\n",
       "    }\n",
       "</style>\n",
       "<table border=\"1\" class=\"dataframe\">\n",
       "  <thead>\n",
       "    <tr style=\"text-align: right;\">\n",
       "      <th></th>\n",
       "      <th>name</th>\n",
       "      <th>id</th>\n",
       "      <th>zahyo_kei</th>\n",
       "      <th>x</th>\n",
       "      <th>y</th>\n",
       "      <th>z</th>\n",
       "    </tr>\n",
       "  </thead>\n",
       "  <tbody>\n",
       "    <tr>\n",
       "      <th>1174</th>\n",
       "      <td>GRID</td>\n",
       "      <td>1</td>\n",
       "      <td></td>\n",
       "      <td>0.00000</td>\n",
       "      <td>0.00000</td>\n",
       "      <td>0.00000\\n</td>\n",
       "    </tr>\n",
       "  </tbody>\n",
       "</table>\n",
       "</div>"
      ],
      "text/plain": [
       "      name        id zahyo_kei         x         y           z\n",
       "1174  GRID         1             0.00000   0.00000   0.00000\\n"
      ]
     },
     "execution_count": 9,
     "metadata": {},
     "output_type": "execute_result"
    }
   ],
   "source": [
    "df_grid=df[df[\"text\"].str.contains('GRID')]\n",
    "df_grid = df_grid[\"text\"].str.split(',', expand=True)\n",
    "df_grid.columns = [\"name\",\"id\",\"zahyo_kei\",\"x\",\"y\",\"z\"]\n",
    "# df_grid.tail()\n",
    "df_grid.head(1)"
   ]
  },
  {
   "cell_type": "code",
   "execution_count": 10,
   "metadata": {
    "ExecuteTime": {
     "end_time": "2018-11-23T01:44:04.199291Z",
     "start_time": "2018-11-23T01:44:04.187299Z"
    }
   },
   "outputs": [
    {
     "data": {
      "text/html": [
       "<div>\n",
       "<style scoped>\n",
       "    .dataframe tbody tr th:only-of-type {\n",
       "        vertical-align: middle;\n",
       "    }\n",
       "\n",
       "    .dataframe tbody tr th {\n",
       "        vertical-align: top;\n",
       "    }\n",
       "\n",
       "    .dataframe thead th {\n",
       "        text-align: right;\n",
       "    }\n",
       "</style>\n",
       "<table border=\"1\" class=\"dataframe\">\n",
       "  <thead>\n",
       "    <tr style=\"text-align: right;\">\n",
       "      <th></th>\n",
       "      <th>text</th>\n",
       "    </tr>\n",
       "  </thead>\n",
       "  <tbody>\n",
       "    <tr>\n",
       "      <th>1171</th>\n",
       "      <td>BEGIN BULK\\n</td>\n",
       "    </tr>\n",
       "    <tr>\n",
       "      <th>1172</th>\n",
       "      <td>\\n</td>\n",
       "    </tr>\n",
       "    <tr>\n",
       "      <th>1173</th>\n",
       "      <td>$Skin Gridpoints\\n</td>\n",
       "    </tr>\n",
       "  </tbody>\n",
       "</table>\n",
       "</div>"
      ],
      "text/plain": [
       "                    text\n",
       "1171        BEGIN BULK\\n\n",
       "1172                  \\n\n",
       "1173  $Skin Gridpoints\\n"
      ]
     },
     "execution_count": 10,
     "metadata": {},
     "output_type": "execute_result"
    }
   ],
   "source": [
    "df_grid_heder=df[header_num:df_grid.index[0]]\n",
    "df_grid_heder"
   ]
  },
  {
   "cell_type": "markdown",
   "metadata": {},
   "source": [
    "### CTRIA6(open vsp)"
   ]
  },
  {
   "cell_type": "code",
   "execution_count": 22,
   "metadata": {
    "ExecuteTime": {
     "end_time": "2018-11-23T01:46:10.077961Z",
     "start_time": "2018-11-23T01:46:10.072963Z"
    }
   },
   "outputs": [],
   "source": [
    "df_grid.tail(1).index[0]\n",
    "CTRIA6_start = df_grid[len(df_grid)-1:].index[0]"
   ]
  },
  {
   "cell_type": "code",
   "execution_count": 23,
   "metadata": {
    "ExecuteTime": {
     "end_time": "2018-11-23T01:46:44.550834Z",
     "start_time": "2018-11-23T01:46:44.529846Z"
    }
   },
   "outputs": [
    {
     "data": {
      "text/html": [
       "<div>\n",
       "<style scoped>\n",
       "    .dataframe tbody tr th:only-of-type {\n",
       "        vertical-align: middle;\n",
       "    }\n",
       "\n",
       "    .dataframe tbody tr th {\n",
       "        vertical-align: top;\n",
       "    }\n",
       "\n",
       "    .dataframe thead th {\n",
       "        text-align: right;\n",
       "    }\n",
       "</style>\n",
       "<table border=\"1\" class=\"dataframe\">\n",
       "  <thead>\n",
       "    <tr style=\"text-align: right;\">\n",
       "      <th></th>\n",
       "      <th>text</th>\n",
       "    </tr>\n",
       "  </thead>\n",
       "  <tbody>\n",
       "    <tr>\n",
       "      <th>8166</th>\n",
       "      <td>CTRIA6,    6987,       1,       1,       2,   ...</td>\n",
       "    </tr>\n",
       "    <tr>\n",
       "      <th>8167</th>\n",
       "      <td>,-65.7132\\n</td>\n",
       "    </tr>\n",
       "    <tr>\n",
       "      <th>8168</th>\n",
       "      <td>CTRIA6,    6988,       1,       7,       8,   ...</td>\n",
       "    </tr>\n",
       "    <tr>\n",
       "      <th>8169</th>\n",
       "      <td>,-0.04143\\n</td>\n",
       "    </tr>\n",
       "    <tr>\n",
       "      <th>8170</th>\n",
       "      <td>CTRIA6,    6989,       1,      13,      14,   ...</td>\n",
       "    </tr>\n",
       "  </tbody>\n",
       "</table>\n",
       "</div>"
      ],
      "text/plain": [
       "                                                   text\n",
       "8166  CTRIA6,    6987,       1,       1,       2,   ...\n",
       "8167                                        ,-65.7132\\n\n",
       "8168  CTRIA6,    6988,       1,       7,       8,   ...\n",
       "8169                                        ,-0.04143\\n\n",
       "8170  CTRIA6,    6989,       1,      13,      14,   ..."
      ]
     },
     "execution_count": 23,
     "metadata": {},
     "output_type": "execute_result"
    }
   ],
   "source": [
    "df_CTRIA6=df[df[\"text\"].str.contains('CTRIA6')]\n",
    "CTRIA6_start_num = df_CTRIA6.head(1).index[0]\n",
    "CTRIA6_end_num = df_CTRIA6.tail(1).index[0]+2\n",
    "df_tmp0 = df[CTRIA6_start_num:CTRIA6_end_num]\n",
    "df_tmp0.head()"
   ]
  },
  {
   "cell_type": "code",
   "execution_count": 15,
   "metadata": {
    "ExecuteTime": {
     "end_time": "2018-11-23T01:44:31.177671Z",
     "start_time": "2018-11-23T01:44:31.171667Z"
    }
   },
   "outputs": [],
   "source": [
    "df_tmp1 = df_tmp0[df_tmp0.index % 2 == 0]\n",
    "df_tmp2 = df_tmp0[df_tmp0.index % 2 != 0]"
   ]
  },
  {
   "cell_type": "code",
   "execution_count": 24,
   "metadata": {
    "ExecuteTime": {
     "end_time": "2018-11-23T01:48:25.367338Z",
     "start_time": "2018-11-23T01:48:25.083737Z"
    }
   },
   "outputs": [
    {
     "ename": "ValueError",
     "evalue": "columns overlap but no suffix specified: Index(['text'], dtype='object')",
     "output_type": "error",
     "traceback": [
      "\u001b[1;31m---------------------------------------------------------------------------\u001b[0m",
      "\u001b[1;31mValueError\u001b[0m                                Traceback (most recent call last)",
      "\u001b[1;32m<ipython-input-24-5709eab7a13e>\u001b[0m in \u001b[0;36m<module>\u001b[1;34m()\u001b[0m\n\u001b[1;32m----> 1\u001b[1;33m \u001b[0mdf_ctria\u001b[0m\u001b[1;33m=\u001b[0m\u001b[0mdf_tmp1\u001b[0m\u001b[1;33m.\u001b[0m\u001b[0mjoin\u001b[0m\u001b[1;33m(\u001b[0m\u001b[0mdf_tmp2\u001b[0m\u001b[1;33m)\u001b[0m\u001b[1;33m\u001b[0m\u001b[0m\n\u001b[0m",
      "\u001b[1;32m~\\Anaconda2\\envs\\mine36\\lib\\site-packages\\pandas\\core\\frame.py\u001b[0m in \u001b[0;36mjoin\u001b[1;34m(self, other, on, how, lsuffix, rsuffix, sort)\u001b[0m\n\u001b[0;32m   6334\u001b[0m         \u001b[1;31m# For SparseDataFrame's benefit\u001b[0m\u001b[1;33m\u001b[0m\u001b[1;33m\u001b[0m\u001b[0m\n\u001b[0;32m   6335\u001b[0m         return self._join_compat(other, on=on, how=how, lsuffix=lsuffix,\n\u001b[1;32m-> 6336\u001b[1;33m                                  rsuffix=rsuffix, sort=sort)\n\u001b[0m\u001b[0;32m   6337\u001b[0m \u001b[1;33m\u001b[0m\u001b[0m\n\u001b[0;32m   6338\u001b[0m     def _join_compat(self, other, on=None, how='left', lsuffix='', rsuffix='',\n",
      "\u001b[1;32m~\\Anaconda2\\envs\\mine36\\lib\\site-packages\\pandas\\core\\frame.py\u001b[0m in \u001b[0;36m_join_compat\u001b[1;34m(self, other, on, how, lsuffix, rsuffix, sort)\u001b[0m\n\u001b[0;32m   6349\u001b[0m             return merge(self, other, left_on=on, how=how,\n\u001b[0;32m   6350\u001b[0m                          \u001b[0mleft_index\u001b[0m\u001b[1;33m=\u001b[0m\u001b[0mon\u001b[0m \u001b[1;32mis\u001b[0m \u001b[1;32mNone\u001b[0m\u001b[1;33m,\u001b[0m \u001b[0mright_index\u001b[0m\u001b[1;33m=\u001b[0m\u001b[1;32mTrue\u001b[0m\u001b[1;33m,\u001b[0m\u001b[1;33m\u001b[0m\u001b[0m\n\u001b[1;32m-> 6351\u001b[1;33m                          suffixes=(lsuffix, rsuffix), sort=sort)\n\u001b[0m\u001b[0;32m   6352\u001b[0m         \u001b[1;32melse\u001b[0m\u001b[1;33m:\u001b[0m\u001b[1;33m\u001b[0m\u001b[0m\n\u001b[0;32m   6353\u001b[0m             \u001b[1;32mif\u001b[0m \u001b[0mon\u001b[0m \u001b[1;32mis\u001b[0m \u001b[1;32mnot\u001b[0m \u001b[1;32mNone\u001b[0m\u001b[1;33m:\u001b[0m\u001b[1;33m\u001b[0m\u001b[0m\n",
      "\u001b[1;32m~\\Anaconda2\\envs\\mine36\\lib\\site-packages\\pandas\\core\\reshape\\merge.py\u001b[0m in \u001b[0;36mmerge\u001b[1;34m(left, right, how, on, left_on, right_on, left_index, right_index, sort, suffixes, copy, indicator, validate)\u001b[0m\n\u001b[0;32m     60\u001b[0m                          \u001b[0mcopy\u001b[0m\u001b[1;33m=\u001b[0m\u001b[0mcopy\u001b[0m\u001b[1;33m,\u001b[0m \u001b[0mindicator\u001b[0m\u001b[1;33m=\u001b[0m\u001b[0mindicator\u001b[0m\u001b[1;33m,\u001b[0m\u001b[1;33m\u001b[0m\u001b[0m\n\u001b[0;32m     61\u001b[0m                          validate=validate)\n\u001b[1;32m---> 62\u001b[1;33m     \u001b[1;32mreturn\u001b[0m \u001b[0mop\u001b[0m\u001b[1;33m.\u001b[0m\u001b[0mget_result\u001b[0m\u001b[1;33m(\u001b[0m\u001b[1;33m)\u001b[0m\u001b[1;33m\u001b[0m\u001b[0m\n\u001b[0m\u001b[0;32m     63\u001b[0m \u001b[1;33m\u001b[0m\u001b[0m\n\u001b[0;32m     64\u001b[0m \u001b[1;33m\u001b[0m\u001b[0m\n",
      "\u001b[1;32m~\\Anaconda2\\envs\\mine36\\lib\\site-packages\\pandas\\core\\reshape\\merge.py\u001b[0m in \u001b[0;36mget_result\u001b[1;34m(self)\u001b[0m\n\u001b[0;32m    572\u001b[0m \u001b[1;33m\u001b[0m\u001b[0m\n\u001b[0;32m    573\u001b[0m         llabels, rlabels = items_overlap_with_suffix(ldata.items, lsuf,\n\u001b[1;32m--> 574\u001b[1;33m                                                      rdata.items, rsuf)\n\u001b[0m\u001b[0;32m    575\u001b[0m \u001b[1;33m\u001b[0m\u001b[0m\n\u001b[0;32m    576\u001b[0m         \u001b[0mlindexers\u001b[0m \u001b[1;33m=\u001b[0m \u001b[1;33m{\u001b[0m\u001b[1;36m1\u001b[0m\u001b[1;33m:\u001b[0m \u001b[0mleft_indexer\u001b[0m\u001b[1;33m}\u001b[0m \u001b[1;32mif\u001b[0m \u001b[0mleft_indexer\u001b[0m \u001b[1;32mis\u001b[0m \u001b[1;32mnot\u001b[0m \u001b[1;32mNone\u001b[0m \u001b[1;32melse\u001b[0m \u001b[1;33m{\u001b[0m\u001b[1;33m}\u001b[0m\u001b[1;33m\u001b[0m\u001b[0m\n",
      "\u001b[1;32m~\\Anaconda2\\envs\\mine36\\lib\\site-packages\\pandas\\core\\internals.py\u001b[0m in \u001b[0;36mitems_overlap_with_suffix\u001b[1;34m(left, lsuffix, right, rsuffix)\u001b[0m\n\u001b[0;32m   5242\u001b[0m         \u001b[1;32mif\u001b[0m \u001b[1;32mnot\u001b[0m \u001b[0mlsuffix\u001b[0m \u001b[1;32mand\u001b[0m \u001b[1;32mnot\u001b[0m \u001b[0mrsuffix\u001b[0m\u001b[1;33m:\u001b[0m\u001b[1;33m\u001b[0m\u001b[0m\n\u001b[0;32m   5243\u001b[0m             raise ValueError('columns overlap but no suffix specified: '\n\u001b[1;32m-> 5244\u001b[1;33m                              '{rename}'.format(rename=to_rename))\n\u001b[0m\u001b[0;32m   5245\u001b[0m \u001b[1;33m\u001b[0m\u001b[0m\n\u001b[0;32m   5246\u001b[0m         \u001b[1;32mdef\u001b[0m \u001b[0mlrenamer\u001b[0m\u001b[1;33m(\u001b[0m\u001b[0mx\u001b[0m\u001b[1;33m)\u001b[0m\u001b[1;33m:\u001b[0m\u001b[1;33m\u001b[0m\u001b[0m\n",
      "\u001b[1;31mValueError\u001b[0m: columns overlap but no suffix specified: Index(['text'], dtype='object')"
     ]
    }
   ],
   "source": [
    "df_ctria=df_tmp1.join(df_tmp2)"
   ]
  },
  {
   "cell_type": "code",
   "execution_count": 17,
   "metadata": {
    "ExecuteTime": {
     "end_time": "2018-11-23T01:44:32.096970Z",
     "start_time": "2018-11-23T01:44:32.085977Z"
    }
   },
   "outputs": [],
   "source": [
    "df_test = pd.DataFrame(df_tmp1,df_tmp2)"
   ]
  },
  {
   "cell_type": "code",
   "execution_count": 21,
   "metadata": {
    "ExecuteTime": {
     "end_time": "2018-11-23T01:45:14.833776Z",
     "start_time": "2018-11-23T01:45:14.815789Z"
    }
   },
   "outputs": [
    {
     "data": {
      "text/html": [
       "<div>\n",
       "<style scoped>\n",
       "    .dataframe tbody tr th:only-of-type {\n",
       "        vertical-align: middle;\n",
       "    }\n",
       "\n",
       "    .dataframe tbody tr th {\n",
       "        vertical-align: top;\n",
       "    }\n",
       "\n",
       "    .dataframe thead th {\n",
       "        text-align: right;\n",
       "    }\n",
       "</style>\n",
       "<table border=\"1\" class=\"dataframe\">\n",
       "  <thead>\n",
       "    <tr style=\"text-align: right;\">\n",
       "      <th></th>\n",
       "      <th>text</th>\n",
       "    </tr>\n",
       "  </thead>\n",
       "  <tbody>\n",
       "    <tr>\n",
       "      <th>8166</th>\n",
       "      <td>CTRIA6,    6987,       1,       1,       2,   ...</td>\n",
       "    </tr>\n",
       "    <tr>\n",
       "      <th>8168</th>\n",
       "      <td>CTRIA6,    6988,       1,       7,       8,   ...</td>\n",
       "    </tr>\n",
       "    <tr>\n",
       "      <th>8170</th>\n",
       "      <td>CTRIA6,    6989,       1,      13,      14,   ...</td>\n",
       "    </tr>\n",
       "    <tr>\n",
       "      <th>8172</th>\n",
       "      <td>CTRIA6,    6990,       1,      19,      20,   ...</td>\n",
       "    </tr>\n",
       "    <tr>\n",
       "      <th>8174</th>\n",
       "      <td>CTRIA6,    6991,       1,      25,      26,   ...</td>\n",
       "    </tr>\n",
       "    <tr>\n",
       "      <th>8176</th>\n",
       "      <td>CTRIA6,    6992,       1,      31,      32,   ...</td>\n",
       "    </tr>\n",
       "    <tr>\n",
       "      <th>8178</th>\n",
       "      <td>CTRIA6,    6993,       1,      37,      38,   ...</td>\n",
       "    </tr>\n",
       "    <tr>\n",
       "      <th>8180</th>\n",
       "      <td>CTRIA6,    6994,       1,      43,      44,   ...</td>\n",
       "    </tr>\n",
       "    <tr>\n",
       "      <th>8182</th>\n",
       "      <td>CTRIA6,    6995,       1,      49,      50,   ...</td>\n",
       "    </tr>\n",
       "    <tr>\n",
       "      <th>8184</th>\n",
       "      <td>CTRIA6,    6996,       1,      49,      55,   ...</td>\n",
       "    </tr>\n",
       "    <tr>\n",
       "      <th>8186</th>\n",
       "      <td>CTRIA6,    6997,       1,      60,      61,   ...</td>\n",
       "    </tr>\n",
       "    <tr>\n",
       "      <th>8188</th>\n",
       "      <td>CTRIA6,    6998,       1,      66,      37,   ...</td>\n",
       "    </tr>\n",
       "    <tr>\n",
       "      <th>8190</th>\n",
       "      <td>CTRIA6,    6999,       1,      71,      72,   ...</td>\n",
       "    </tr>\n",
       "    <tr>\n",
       "      <th>8192</th>\n",
       "      <td>CTRIA6,    7000,       1,      77,      78,   ...</td>\n",
       "    </tr>\n",
       "    <tr>\n",
       "      <th>8194</th>\n",
       "      <td>CTRIA6,    7001,       1,      66,      67,   ...</td>\n",
       "    </tr>\n",
       "    <tr>\n",
       "      <th>8196</th>\n",
       "      <td>CTRIA6,    7002,       1,      86,      87,   ...</td>\n",
       "    </tr>\n",
       "    <tr>\n",
       "      <th>8198</th>\n",
       "      <td>CTRIA6,    7003,       1,      92,      93,   ...</td>\n",
       "    </tr>\n",
       "    <tr>\n",
       "      <th>8200</th>\n",
       "      <td>CTRIA6,    7004,       1,      98,      99,   ...</td>\n",
       "    </tr>\n",
       "    <tr>\n",
       "      <th>8202</th>\n",
       "      <td>CTRIA6,    7005,       1,     104,     105,   ...</td>\n",
       "    </tr>\n",
       "    <tr>\n",
       "      <th>8204</th>\n",
       "      <td>CTRIA6,    7006,       1,     110,     105,   ...</td>\n",
       "    </tr>\n",
       "    <tr>\n",
       "      <th>8206</th>\n",
       "      <td>CTRIA6,    7007,       1,      71,     115,   ...</td>\n",
       "    </tr>\n",
       "    <tr>\n",
       "      <th>8208</th>\n",
       "      <td>CTRIA6,    7008,       1,     118,     119,   ...</td>\n",
       "    </tr>\n",
       "    <tr>\n",
       "      <th>8210</th>\n",
       "      <td>CTRIA6,    7009,       1,     124,     125,   ...</td>\n",
       "    </tr>\n",
       "    <tr>\n",
       "      <th>8212</th>\n",
       "      <td>CTRIA6,    7010,       1,     104,     130,   ...</td>\n",
       "    </tr>\n",
       "    <tr>\n",
       "      <th>8214</th>\n",
       "      <td>CTRIA6,    7011,       1,     135,     136,   ...</td>\n",
       "    </tr>\n",
       "    <tr>\n",
       "      <th>8216</th>\n",
       "      <td>CTRIA6,    7012,       1,     140,     141,   ...</td>\n",
       "    </tr>\n",
       "    <tr>\n",
       "      <th>8218</th>\n",
       "      <td>CTRIA6,    7013,       1,     140,       9,   ...</td>\n",
       "    </tr>\n",
       "    <tr>\n",
       "      <th>8220</th>\n",
       "      <td>CTRIA6,    7014,       1,     148,     149,   ...</td>\n",
       "    </tr>\n",
       "    <tr>\n",
       "      <th>8222</th>\n",
       "      <td>CTRIA6,    7015,       1,      20,     154,   ...</td>\n",
       "    </tr>\n",
       "    <tr>\n",
       "      <th>8224</th>\n",
       "      <td>CTRIA6,    7016,       1,      98,     159,   ...</td>\n",
       "    </tr>\n",
       "    <tr>\n",
       "      <th>...</th>\n",
       "      <td>...</td>\n",
       "    </tr>\n",
       "    <tr>\n",
       "      <th>15090</th>\n",
       "      <td>CTRIA6,   10449,       1,    6391,    6343,   ...</td>\n",
       "    </tr>\n",
       "    <tr>\n",
       "      <th>15092</th>\n",
       "      <td>CTRIA6,   10450,       1,    6825,    6391,   ...</td>\n",
       "    </tr>\n",
       "    <tr>\n",
       "      <th>15094</th>\n",
       "      <td>CTRIA6,   10451,       1,    6448,    3818,   ...</td>\n",
       "    </tr>\n",
       "    <tr>\n",
       "      <th>15096</th>\n",
       "      <td>CTRIA6,   10452,       1,    6825,    6451,   ...</td>\n",
       "    </tr>\n",
       "    <tr>\n",
       "      <th>15098</th>\n",
       "      <td>CTRIA6,   10453,       1,    6391,    6825,   ...</td>\n",
       "    </tr>\n",
       "    <tr>\n",
       "      <th>15100</th>\n",
       "      <td>CTRIA6,   10454,       1,    6398,    6391,   ...</td>\n",
       "    </tr>\n",
       "    <tr>\n",
       "      <th>15102</th>\n",
       "      <td>CTRIA6,   10455,       1,    6328,    6327,   ...</td>\n",
       "    </tr>\n",
       "    <tr>\n",
       "      <th>15104</th>\n",
       "      <td>CTRIA6,   10456,       1,    6398,    6949,   ...</td>\n",
       "    </tr>\n",
       "    <tr>\n",
       "      <th>15106</th>\n",
       "      <td>CTRIA6,   10457,       1,    6373,    6967,   ...</td>\n",
       "    </tr>\n",
       "    <tr>\n",
       "      <th>15108</th>\n",
       "      <td>CTRIA6,   10458,       1,    6804,    6677,   ...</td>\n",
       "    </tr>\n",
       "    <tr>\n",
       "      <th>15110</th>\n",
       "      <td>CTRIA6,   10459,       1,    6373,    6940,   ...</td>\n",
       "    </tr>\n",
       "    <tr>\n",
       "      <th>15112</th>\n",
       "      <td>CTRIA6,   10460,       1,    6804,    6967,   ...</td>\n",
       "    </tr>\n",
       "    <tr>\n",
       "      <th>15114</th>\n",
       "      <td>CTRIA6,   10461,       1,    6270,    3258,   ...</td>\n",
       "    </tr>\n",
       "    <tr>\n",
       "      <th>15116</th>\n",
       "      <td>CTRIA6,   10462,       1,    6273,    6885,   ...</td>\n",
       "    </tr>\n",
       "    <tr>\n",
       "      <th>15118</th>\n",
       "      <td>CTRIA6,   10463,       1,    6528,    6316,   ...</td>\n",
       "    </tr>\n",
       "    <tr>\n",
       "      <th>15120</th>\n",
       "      <td>CTRIA6,   10464,       1,    6547,    6528,   ...</td>\n",
       "    </tr>\n",
       "    <tr>\n",
       "      <th>15122</th>\n",
       "      <td>CTRIA6,   10465,       1,    6472,    6541,   ...</td>\n",
       "    </tr>\n",
       "    <tr>\n",
       "      <th>15124</th>\n",
       "      <td>CTRIA6,   10466,       1,    6547,    6473,   ...</td>\n",
       "    </tr>\n",
       "    <tr>\n",
       "      <th>15126</th>\n",
       "      <td>CTRIA6,   10467,       1,    6579,    6276,   ...</td>\n",
       "    </tr>\n",
       "    <tr>\n",
       "      <th>15128</th>\n",
       "      <td>CTRIA6,   10468,       1,    2891,    6270,   ...</td>\n",
       "    </tr>\n",
       "    <tr>\n",
       "      <th>15130</th>\n",
       "      <td>CTRIA6,   10469,       1,    6579,    3738,   ...</td>\n",
       "    </tr>\n",
       "    <tr>\n",
       "      <th>15132</th>\n",
       "      <td>CTRIA6,   10470,       1,    3738,      25,   ...</td>\n",
       "    </tr>\n",
       "    <tr>\n",
       "      <th>15134</th>\n",
       "      <td>CTRIA6,   10471,       1,    6305,    3750,   ...</td>\n",
       "    </tr>\n",
       "    <tr>\n",
       "      <th>15136</th>\n",
       "      <td>CTRIA6,   10472,       1,    6305,    6952,   ...</td>\n",
       "    </tr>\n",
       "    <tr>\n",
       "      <th>15138</th>\n",
       "      <td>CTRIA6,   10473,       1,    6952,    6980,   ...</td>\n",
       "    </tr>\n",
       "    <tr>\n",
       "      <th>15140</th>\n",
       "      <td>CTRIA6,   10474,       1,    6515,    6952,   ...</td>\n",
       "    </tr>\n",
       "    <tr>\n",
       "      <th>15142</th>\n",
       "      <td>CTRIA6,   10475,       1,    3752,    6980,   ...</td>\n",
       "    </tr>\n",
       "    <tr>\n",
       "      <th>15144</th>\n",
       "      <td>CTRIA6,   10476,       1,    6904,    6520,   ...</td>\n",
       "    </tr>\n",
       "    <tr>\n",
       "      <th>15146</th>\n",
       "      <td>CTRIA6,   10477,       1,    3752,    3906,   ...</td>\n",
       "    </tr>\n",
       "    <tr>\n",
       "      <th>15148</th>\n",
       "      <td>CTRIA6,   10478,       1,    6904,    6980,   ...</td>\n",
       "    </tr>\n",
       "  </tbody>\n",
       "</table>\n",
       "<p>3492 rows × 1 columns</p>\n",
       "</div>"
      ],
      "text/plain": [
       "                                                    text\n",
       "8166   CTRIA6,    6987,       1,       1,       2,   ...\n",
       "8168   CTRIA6,    6988,       1,       7,       8,   ...\n",
       "8170   CTRIA6,    6989,       1,      13,      14,   ...\n",
       "8172   CTRIA6,    6990,       1,      19,      20,   ...\n",
       "8174   CTRIA6,    6991,       1,      25,      26,   ...\n",
       "8176   CTRIA6,    6992,       1,      31,      32,   ...\n",
       "8178   CTRIA6,    6993,       1,      37,      38,   ...\n",
       "8180   CTRIA6,    6994,       1,      43,      44,   ...\n",
       "8182   CTRIA6,    6995,       1,      49,      50,   ...\n",
       "8184   CTRIA6,    6996,       1,      49,      55,   ...\n",
       "8186   CTRIA6,    6997,       1,      60,      61,   ...\n",
       "8188   CTRIA6,    6998,       1,      66,      37,   ...\n",
       "8190   CTRIA6,    6999,       1,      71,      72,   ...\n",
       "8192   CTRIA6,    7000,       1,      77,      78,   ...\n",
       "8194   CTRIA6,    7001,       1,      66,      67,   ...\n",
       "8196   CTRIA6,    7002,       1,      86,      87,   ...\n",
       "8198   CTRIA6,    7003,       1,      92,      93,   ...\n",
       "8200   CTRIA6,    7004,       1,      98,      99,   ...\n",
       "8202   CTRIA6,    7005,       1,     104,     105,   ...\n",
       "8204   CTRIA6,    7006,       1,     110,     105,   ...\n",
       "8206   CTRIA6,    7007,       1,      71,     115,   ...\n",
       "8208   CTRIA6,    7008,       1,     118,     119,   ...\n",
       "8210   CTRIA6,    7009,       1,     124,     125,   ...\n",
       "8212   CTRIA6,    7010,       1,     104,     130,   ...\n",
       "8214   CTRIA6,    7011,       1,     135,     136,   ...\n",
       "8216   CTRIA6,    7012,       1,     140,     141,   ...\n",
       "8218   CTRIA6,    7013,       1,     140,       9,   ...\n",
       "8220   CTRIA6,    7014,       1,     148,     149,   ...\n",
       "8222   CTRIA6,    7015,       1,      20,     154,   ...\n",
       "8224   CTRIA6,    7016,       1,      98,     159,   ...\n",
       "...                                                  ...\n",
       "15090  CTRIA6,   10449,       1,    6391,    6343,   ...\n",
       "15092  CTRIA6,   10450,       1,    6825,    6391,   ...\n",
       "15094  CTRIA6,   10451,       1,    6448,    3818,   ...\n",
       "15096  CTRIA6,   10452,       1,    6825,    6451,   ...\n",
       "15098  CTRIA6,   10453,       1,    6391,    6825,   ...\n",
       "15100  CTRIA6,   10454,       1,    6398,    6391,   ...\n",
       "15102  CTRIA6,   10455,       1,    6328,    6327,   ...\n",
       "15104  CTRIA6,   10456,       1,    6398,    6949,   ...\n",
       "15106  CTRIA6,   10457,       1,    6373,    6967,   ...\n",
       "15108  CTRIA6,   10458,       1,    6804,    6677,   ...\n",
       "15110  CTRIA6,   10459,       1,    6373,    6940,   ...\n",
       "15112  CTRIA6,   10460,       1,    6804,    6967,   ...\n",
       "15114  CTRIA6,   10461,       1,    6270,    3258,   ...\n",
       "15116  CTRIA6,   10462,       1,    6273,    6885,   ...\n",
       "15118  CTRIA6,   10463,       1,    6528,    6316,   ...\n",
       "15120  CTRIA6,   10464,       1,    6547,    6528,   ...\n",
       "15122  CTRIA6,   10465,       1,    6472,    6541,   ...\n",
       "15124  CTRIA6,   10466,       1,    6547,    6473,   ...\n",
       "15126  CTRIA6,   10467,       1,    6579,    6276,   ...\n",
       "15128  CTRIA6,   10468,       1,    2891,    6270,   ...\n",
       "15130  CTRIA6,   10469,       1,    6579,    3738,   ...\n",
       "15132  CTRIA6,   10470,       1,    3738,      25,   ...\n",
       "15134  CTRIA6,   10471,       1,    6305,    3750,   ...\n",
       "15136  CTRIA6,   10472,       1,    6305,    6952,   ...\n",
       "15138  CTRIA6,   10473,       1,    6952,    6980,   ...\n",
       "15140  CTRIA6,   10474,       1,    6515,    6952,   ...\n",
       "15142  CTRIA6,   10475,       1,    3752,    6980,   ...\n",
       "15144  CTRIA6,   10476,       1,    6904,    6520,   ...\n",
       "15146  CTRIA6,   10477,       1,    3752,    3906,   ...\n",
       "15148  CTRIA6,   10478,       1,    6904,    6980,   ...\n",
       "\n",
       "[3492 rows x 1 columns]"
      ]
     },
     "execution_count": 21,
     "metadata": {},
     "output_type": "execute_result"
    }
   ],
   "source": [
    "df_tmp1"
   ]
  },
  {
   "cell_type": "code",
   "execution_count": null,
   "metadata": {},
   "outputs": [],
   "source": []
  }
 ],
 "metadata": {
  "kernelspec": {
   "display_name": "Python 3",
   "language": "python",
   "name": "python3"
  },
  "nbTranslate": {
   "displayLangs": [
    "japanese",
    "en"
   ],
   "hotkey": "alt-t",
   "langInMainMenu": true,
   "sourceLang": "en",
   "targetLang": "japanese",
   "useGoogleTranslate": true
  },
  "toc": {
   "base_numbering": 1,
   "nav_menu": {},
   "number_sections": true,
   "sideBar": true,
   "skip_h1_title": false,
   "title_cell": "Table of Contents",
   "title_sidebar": "Contents",
   "toc_cell": false,
   "toc_position": {},
   "toc_section_display": true,
   "toc_window_display": false
  },
  "varInspector": {
   "cols": {
    "lenName": 16,
    "lenType": 16,
    "lenVar": 40
   },
   "kernels_config": {
    "python": {
     "delete_cmd_postfix": "",
     "delete_cmd_prefix": "del ",
     "library": "var_list.py",
     "varRefreshCmd": "print(var_dic_list())"
    },
    "r": {
     "delete_cmd_postfix": ") ",
     "delete_cmd_prefix": "rm(",
     "library": "var_list.r",
     "varRefreshCmd": "cat(var_dic_list()) "
    }
   },
   "types_to_exclude": [
    "module",
    "function",
    "builtin_function_or_method",
    "instance",
    "_Feature"
   ],
   "window_display": false
  }
 },
 "nbformat": 4,
 "nbformat_minor": 2
}
