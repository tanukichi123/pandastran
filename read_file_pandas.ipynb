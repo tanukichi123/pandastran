{
 "cells": [
  {
   "cell_type": "markdown",
   "metadata": {},
   "source": [
    "## Read Nastran input file"
   ]
  },
  {
   "cell_type": "markdown",
   "metadata": {},
   "source": [
    "from pyNastran\\bdf\\bdf_interface\\pybdf.py _show_bad_file"
   ]
  },
  {
   "cell_type": "markdown",
   "metadata": {},
   "source": [
    "### set file_name"
   ]
  },
  {
   "cell_type": "code",
   "execution_count": 1,
   "metadata": {
    "ExecuteTime": {
     "end_time": "2018-11-14T20:35:47.164205Z",
     "start_time": "2018-11-14T20:35:47.160204Z"
    }
   },
   "outputs": [],
   "source": [
    "bdf_filename = \"test_openvsp.dat\""
   ]
  },
  {
   "cell_type": "markdown",
   "metadata": {},
   "source": [
    "### read file"
   ]
  },
  {
   "cell_type": "code",
   "execution_count": 10,
   "metadata": {
    "ExecuteTime": {
     "end_time": "2018-11-14T21:09:57.610026Z",
     "start_time": "2018-11-14T21:09:57.605029Z"
    }
   },
   "outputs": [],
   "source": [
    "bdf_file = open(bdf_filename, 'r', encoding=\"utf-8\")"
   ]
  },
  {
   "cell_type": "code",
   "execution_count": 12,
   "metadata": {
    "ExecuteTime": {
     "end_time": "2018-11-14T21:11:01.144191Z",
     "start_time": "2018-11-14T21:11:01.129200Z"
    }
   },
   "outputs": [],
   "source": [
    "lines2 = bdf_file.readlines()"
   ]
  },
  {
   "cell_type": "code",
   "execution_count": 14,
   "metadata": {
    "ExecuteTime": {
     "end_time": "2018-11-14T21:12:06.024464Z",
     "start_time": "2018-11-14T21:12:06.001479Z"
    }
   },
   "outputs": [
    {
     "data": {
      "text/html": [
       "<div>\n",
       "<style scoped>\n",
       "    .dataframe tbody tr th:only-of-type {\n",
       "        vertical-align: middle;\n",
       "    }\n",
       "\n",
       "    .dataframe tbody tr th {\n",
       "        vertical-align: top;\n",
       "    }\n",
       "\n",
       "    .dataframe thead th {\n",
       "        text-align: right;\n",
       "    }\n",
       "</style>\n",
       "<table border=\"1\" class=\"dataframe\">\n",
       "  <thead>\n",
       "    <tr style=\"text-align: right;\">\n",
       "      <th></th>\n",
       "      <th>0</th>\n",
       "    </tr>\n",
       "  </thead>\n",
       "  <tbody>\n",
       "    <tr>\n",
       "      <th>0</th>\n",
       "      <td>$NASTRAN Data File Generated from OpenVSP 3.16...</td>\n",
       "    </tr>\n",
       "    <tr>\n",
       "      <th>1</th>\n",
       "      <td>$Num_Tris: 3492\\n</td>\n",
       "    </tr>\n",
       "    <tr>\n",
       "      <th>2</th>\n",
       "      <td>$Num_Beams 0\\n</td>\n",
       "    </tr>\n",
       "    <tr>\n",
       "      <th>3</th>\n",
       "      <td>\\n</td>\n",
       "    </tr>\n",
       "    <tr>\n",
       "      <th>4</th>\n",
       "      <td>SET 1 = 1,2,3,4,5,6,7,8,9,\\n</td>\n",
       "    </tr>\n",
       "    <tr>\n",
       "      <th>5</th>\n",
       "      <td>10,11,12,13,14,15,16,17,18,\\n</td>\n",
       "    </tr>\n",
       "    <tr>\n",
       "      <th>6</th>\n",
       "      <td>19,20,21,22,23,24,25,26,27,\\n</td>\n",
       "    </tr>\n",
       "    <tr>\n",
       "      <th>7</th>\n",
       "      <td>28,29,30,31,32,33,34,35,36,\\n</td>\n",
       "    </tr>\n",
       "    <tr>\n",
       "      <th>8</th>\n",
       "      <td>37,38,39,40,41,42,43,44,45,\\n</td>\n",
       "    </tr>\n",
       "    <tr>\n",
       "      <th>9</th>\n",
       "      <td>46,47,48,49,50,51,52,53,54,\\n</td>\n",
       "    </tr>\n",
       "    <tr>\n",
       "      <th>10</th>\n",
       "      <td>55,56,57,58,59,60,61,62,63,\\n</td>\n",
       "    </tr>\n",
       "    <tr>\n",
       "      <th>11</th>\n",
       "      <td>64,65,66,67,68,69,70,71,72,\\n</td>\n",
       "    </tr>\n",
       "    <tr>\n",
       "      <th>12</th>\n",
       "      <td>73,74,75,76,77,78,79,80,81,\\n</td>\n",
       "    </tr>\n",
       "    <tr>\n",
       "      <th>13</th>\n",
       "      <td>82,83,84,85,86,87,88,89,90,\\n</td>\n",
       "    </tr>\n",
       "    <tr>\n",
       "      <th>14</th>\n",
       "      <td>91,92,93,94,95,96,97,98,99,\\n</td>\n",
       "    </tr>\n",
       "    <tr>\n",
       "      <th>15</th>\n",
       "      <td>100,101,102,103,104,105,106,107,108,\\n</td>\n",
       "    </tr>\n",
       "    <tr>\n",
       "      <th>16</th>\n",
       "      <td>109,110,111,112,113,114,115,116,117,\\n</td>\n",
       "    </tr>\n",
       "    <tr>\n",
       "      <th>17</th>\n",
       "      <td>118,119,120,121,122,123,124,125,126,\\n</td>\n",
       "    </tr>\n",
       "    <tr>\n",
       "      <th>18</th>\n",
       "      <td>127,128,129,130,131,132,133,134,135,\\n</td>\n",
       "    </tr>\n",
       "    <tr>\n",
       "      <th>19</th>\n",
       "      <td>136,137,138,139,140,141,142,143,144,\\n</td>\n",
       "    </tr>\n",
       "    <tr>\n",
       "      <th>20</th>\n",
       "      <td>145,146,147,148,149,150,151,152,153,\\n</td>\n",
       "    </tr>\n",
       "    <tr>\n",
       "      <th>21</th>\n",
       "      <td>154,155,156,157,158,159,160,161,162,\\n</td>\n",
       "    </tr>\n",
       "    <tr>\n",
       "      <th>22</th>\n",
       "      <td>163,164,165,166,167,168,169,170,171,\\n</td>\n",
       "    </tr>\n",
       "    <tr>\n",
       "      <th>23</th>\n",
       "      <td>172,173,174,175,176,177,178,179,180,\\n</td>\n",
       "    </tr>\n",
       "    <tr>\n",
       "      <th>24</th>\n",
       "      <td>181,182,183,184,185,186,187,188,189,\\n</td>\n",
       "    </tr>\n",
       "    <tr>\n",
       "      <th>25</th>\n",
       "      <td>190,191,192,193,194,195,196,197,198,\\n</td>\n",
       "    </tr>\n",
       "    <tr>\n",
       "      <th>26</th>\n",
       "      <td>199,200,201,202,203,204,205,206,207,\\n</td>\n",
       "    </tr>\n",
       "    <tr>\n",
       "      <th>27</th>\n",
       "      <td>208,209,210,211,212,213,214,215,216,\\n</td>\n",
       "    </tr>\n",
       "    <tr>\n",
       "      <th>28</th>\n",
       "      <td>217,218,219,220,221,222,223,224,225,\\n</td>\n",
       "    </tr>\n",
       "    <tr>\n",
       "      <th>29</th>\n",
       "      <td>226,227,228,229,230,231,232,233,234,\\n</td>\n",
       "    </tr>\n",
       "    <tr>\n",
       "      <th>...</th>\n",
       "      <td>...</td>\n",
       "    </tr>\n",
       "    <tr>\n",
       "      <th>15134</th>\n",
       "      <td>CTRIA6,   10471,       1,    6305,    3750,   ...</td>\n",
       "    </tr>\n",
       "    <tr>\n",
       "      <th>15135</th>\n",
       "      <td>,-106.390\\n</td>\n",
       "    </tr>\n",
       "    <tr>\n",
       "      <th>15136</th>\n",
       "      <td>CTRIA6,   10472,       1,    6305,    6952,   ...</td>\n",
       "    </tr>\n",
       "    <tr>\n",
       "      <th>15137</th>\n",
       "      <td>,-169.704\\n</td>\n",
       "    </tr>\n",
       "    <tr>\n",
       "      <th>15138</th>\n",
       "      <td>CTRIA6,   10473,       1,    6952,    6980,   ...</td>\n",
       "    </tr>\n",
       "    <tr>\n",
       "      <th>15139</th>\n",
       "      <td>,-161.134\\n</td>\n",
       "    </tr>\n",
       "    <tr>\n",
       "      <th>15140</th>\n",
       "      <td>CTRIA6,   10474,       1,    6515,    6952,   ...</td>\n",
       "    </tr>\n",
       "    <tr>\n",
       "      <th>15141</th>\n",
       "      <td>,-95.3776\\n</td>\n",
       "    </tr>\n",
       "    <tr>\n",
       "      <th>15142</th>\n",
       "      <td>CTRIA6,   10475,       1,    3752,    6980,   ...</td>\n",
       "    </tr>\n",
       "    <tr>\n",
       "      <th>15143</th>\n",
       "      <td>, 140.116\\n</td>\n",
       "    </tr>\n",
       "    <tr>\n",
       "      <th>15144</th>\n",
       "      <td>CTRIA6,   10476,       1,    6904,    6520,   ...</td>\n",
       "    </tr>\n",
       "    <tr>\n",
       "      <th>15145</th>\n",
       "      <td>, 40.8219\\n</td>\n",
       "    </tr>\n",
       "    <tr>\n",
       "      <th>15146</th>\n",
       "      <td>CTRIA6,   10477,       1,    3752,    3906,   ...</td>\n",
       "    </tr>\n",
       "    <tr>\n",
       "      <th>15147</th>\n",
       "      <td>,-179.716\\n</td>\n",
       "    </tr>\n",
       "    <tr>\n",
       "      <th>15148</th>\n",
       "      <td>CTRIA6,   10478,       1,    6904,    6980,   ...</td>\n",
       "    </tr>\n",
       "    <tr>\n",
       "      <th>15149</th>\n",
       "      <td>,-17.3939\\n</td>\n",
       "    </tr>\n",
       "    <tr>\n",
       "      <th>15150</th>\n",
       "      <td>\\n</td>\n",
       "    </tr>\n",
       "    <tr>\n",
       "      <th>15151</th>\n",
       "      <td>$Properties\\n</td>\n",
       "    </tr>\n",
       "    <tr>\n",
       "      <th>15152</th>\n",
       "      <td>PSHELL,       1,       1, 0.10000,-1\\n</td>\n",
       "    </tr>\n",
       "    <tr>\n",
       "      <th>15153</th>\n",
       "      <td>PBAR,       2,       1, 0.10000, 0.10000, 0.10...</td>\n",
       "    </tr>\n",
       "    <tr>\n",
       "      <th>15154</th>\n",
       "      <td>,        ,        ,        ,        ,     ...</td>\n",
       "    </tr>\n",
       "    <tr>\n",
       "      <th>15155</th>\n",
       "      <td>,        ,        , 0.00000\\n</td>\n",
       "    </tr>\n",
       "    <tr>\n",
       "      <th>15156</th>\n",
       "      <td>\\n</td>\n",
       "    </tr>\n",
       "    <tr>\n",
       "      <th>15157</th>\n",
       "      <td>$Materials\\n</td>\n",
       "    </tr>\n",
       "    <tr>\n",
       "      <th>15158</th>\n",
       "      <td>MAT1,       1, 1.5e+09,5.63e+08,    0.33,    5...</td>\n",
       "    </tr>\n",
       "    <tr>\n",
       "      <th>15159</th>\n",
       "      <td>MAT1,       2,1.53e+09,5.74e+08,    0.33,    5...</td>\n",
       "    </tr>\n",
       "    <tr>\n",
       "      <th>15160</th>\n",
       "      <td>MAT1,       3,2.38e+09,8.86e+08,   0.342,     ...</td>\n",
       "    </tr>\n",
       "    <tr>\n",
       "      <th>15161</th>\n",
       "      <td>MAT1,       4,4.28e+09,1.66e+09,    0.29,    1...</td>\n",
       "    </tr>\n",
       "    <tr>\n",
       "      <th>15162</th>\n",
       "      <td>\\n</td>\n",
       "    </tr>\n",
       "    <tr>\n",
       "      <th>15163</th>\n",
       "      <td>END DATA\\n</td>\n",
       "    </tr>\n",
       "  </tbody>\n",
       "</table>\n",
       "<p>15164 rows × 1 columns</p>\n",
       "</div>"
      ],
      "text/plain": [
       "                                                       0\n",
       "0      $NASTRAN Data File Generated from OpenVSP 3.16...\n",
       "1                                      $Num_Tris: 3492\\n\n",
       "2                                         $Num_Beams 0\\n\n",
       "3                                                     \\n\n",
       "4                           SET 1 = 1,2,3,4,5,6,7,8,9,\\n\n",
       "5                          10,11,12,13,14,15,16,17,18,\\n\n",
       "6                          19,20,21,22,23,24,25,26,27,\\n\n",
       "7                          28,29,30,31,32,33,34,35,36,\\n\n",
       "8                          37,38,39,40,41,42,43,44,45,\\n\n",
       "9                          46,47,48,49,50,51,52,53,54,\\n\n",
       "10                         55,56,57,58,59,60,61,62,63,\\n\n",
       "11                         64,65,66,67,68,69,70,71,72,\\n\n",
       "12                         73,74,75,76,77,78,79,80,81,\\n\n",
       "13                         82,83,84,85,86,87,88,89,90,\\n\n",
       "14                         91,92,93,94,95,96,97,98,99,\\n\n",
       "15                100,101,102,103,104,105,106,107,108,\\n\n",
       "16                109,110,111,112,113,114,115,116,117,\\n\n",
       "17                118,119,120,121,122,123,124,125,126,\\n\n",
       "18                127,128,129,130,131,132,133,134,135,\\n\n",
       "19                136,137,138,139,140,141,142,143,144,\\n\n",
       "20                145,146,147,148,149,150,151,152,153,\\n\n",
       "21                154,155,156,157,158,159,160,161,162,\\n\n",
       "22                163,164,165,166,167,168,169,170,171,\\n\n",
       "23                172,173,174,175,176,177,178,179,180,\\n\n",
       "24                181,182,183,184,185,186,187,188,189,\\n\n",
       "25                190,191,192,193,194,195,196,197,198,\\n\n",
       "26                199,200,201,202,203,204,205,206,207,\\n\n",
       "27                208,209,210,211,212,213,214,215,216,\\n\n",
       "28                217,218,219,220,221,222,223,224,225,\\n\n",
       "29                226,227,228,229,230,231,232,233,234,\\n\n",
       "...                                                  ...\n",
       "15134  CTRIA6,   10471,       1,    6305,    3750,   ...\n",
       "15135                                        ,-106.390\\n\n",
       "15136  CTRIA6,   10472,       1,    6305,    6952,   ...\n",
       "15137                                        ,-169.704\\n\n",
       "15138  CTRIA6,   10473,       1,    6952,    6980,   ...\n",
       "15139                                        ,-161.134\\n\n",
       "15140  CTRIA6,   10474,       1,    6515,    6952,   ...\n",
       "15141                                        ,-95.3776\\n\n",
       "15142  CTRIA6,   10475,       1,    3752,    6980,   ...\n",
       "15143                                        , 140.116\\n\n",
       "15144  CTRIA6,   10476,       1,    6904,    6520,   ...\n",
       "15145                                        , 40.8219\\n\n",
       "15146  CTRIA6,   10477,       1,    3752,    3906,   ...\n",
       "15147                                        ,-179.716\\n\n",
       "15148  CTRIA6,   10478,       1,    6904,    6980,   ...\n",
       "15149                                        ,-17.3939\\n\n",
       "15150                                                 \\n\n",
       "15151                                      $Properties\\n\n",
       "15152             PSHELL,       1,       1, 0.10000,-1\\n\n",
       "15153  PBAR,       2,       1, 0.10000, 0.10000, 0.10...\n",
       "15154      ,        ,        ,        ,        ,     ...\n",
       "15155                      ,        ,        , 0.00000\\n\n",
       "15156                                                 \\n\n",
       "15157                                       $Materials\\n\n",
       "15158  MAT1,       1, 1.5e+09,5.63e+08,    0.33,    5...\n",
       "15159  MAT1,       2,1.53e+09,5.74e+08,    0.33,    5...\n",
       "15160  MAT1,       3,2.38e+09,8.86e+08,   0.342,     ...\n",
       "15161  MAT1,       4,4.28e+09,1.66e+09,    0.29,    1...\n",
       "15162                                                 \\n\n",
       "15163                                         END DATA\\n\n",
       "\n",
       "[15164 rows x 1 columns]"
      ]
     },
     "execution_count": 14,
     "metadata": {},
     "output_type": "execute_result"
    }
   ],
   "source": [
    "df_a=pd.DataFrame(lines2)\n",
    "df_a"
   ]
  },
  {
   "cell_type": "code",
   "execution_count": null,
   "metadata": {},
   "outputs": [],
   "source": []
  },
  {
   "cell_type": "code",
   "execution_count": 2,
   "metadata": {
    "ExecuteTime": {
     "end_time": "2018-11-14T20:35:48.254702Z",
     "start_time": "2018-11-14T20:35:48.220726Z"
    }
   },
   "outputs": [
    {
     "name": "stdout",
     "output_type": "stream",
     "text": [
      "ENCODING - show_bad_file='utf-8'\n",
      "success!\n"
     ]
    }
   ],
   "source": [
    "lines = []  # type: List[str]\n",
    "encoding = \"utf-8\"\n",
    "print('ENCODING - show_bad_file=%r' % encoding)\n",
    "\n",
    "with open(bdf_filename, 'r', encoding=encoding) as bdf_file:\n",
    "    iline = 0\n",
    "    nblank = 0\n",
    "    while 1:\n",
    "        try:\n",
    "            line = bdf_file.readline().rstrip()\n",
    "        except:\n",
    "            line = \"error\"\n",
    "            print(\"error at \" + str(iline))\n",
    "            print(\"check encode error\")\n",
    "            \n",
    "        iline += 1\n",
    "        lines.append(line)\n",
    "        \n",
    "        if line.find(\"END DATA\") != -1:\n",
    "            print(\"success!\")\n",
    "            break"
   ]
  },
  {
   "cell_type": "markdown",
   "metadata": {},
   "source": [
    "## Create pandas df"
   ]
  },
  {
   "cell_type": "code",
   "execution_count": 3,
   "metadata": {
    "ExecuteTime": {
     "end_time": "2018-11-14T20:35:52.590419Z",
     "start_time": "2018-11-14T20:35:52.127164Z"
    }
   },
   "outputs": [],
   "source": [
    "import pandas as pd\n",
    "df=pd.DataFrame(lines)\n",
    "df.columns=[\"text\"]"
   ]
  },
  {
   "cell_type": "code",
   "execution_count": 4,
   "metadata": {
    "ExecuteTime": {
     "end_time": "2018-11-14T20:35:52.652877Z",
     "start_time": "2018-11-14T20:35:52.629891Z"
    }
   },
   "outputs": [
    {
     "data": {
      "text/html": [
       "<div>\n",
       "<style scoped>\n",
       "    .dataframe tbody tr th:only-of-type {\n",
       "        vertical-align: middle;\n",
       "    }\n",
       "\n",
       "    .dataframe tbody tr th {\n",
       "        vertical-align: top;\n",
       "    }\n",
       "\n",
       "    .dataframe thead th {\n",
       "        text-align: right;\n",
       "    }\n",
       "</style>\n",
       "<table border=\"1\" class=\"dataframe\">\n",
       "  <thead>\n",
       "    <tr style=\"text-align: right;\">\n",
       "      <th></th>\n",
       "      <th>text</th>\n",
       "    </tr>\n",
       "  </thead>\n",
       "  <tbody>\n",
       "    <tr>\n",
       "      <th>0</th>\n",
       "      <td>$NASTRAN Data File Generated from OpenVSP 3.16.2</td>\n",
       "    </tr>\n",
       "    <tr>\n",
       "      <th>1</th>\n",
       "      <td>$Num_Tris: 3492</td>\n",
       "    </tr>\n",
       "    <tr>\n",
       "      <th>2</th>\n",
       "      <td>$Num_Beams 0</td>\n",
       "    </tr>\n",
       "    <tr>\n",
       "      <th>3</th>\n",
       "      <td></td>\n",
       "    </tr>\n",
       "    <tr>\n",
       "      <th>4</th>\n",
       "      <td>SET 1 = 1,2,3,4,5,6,7,8,9,</td>\n",
       "    </tr>\n",
       "  </tbody>\n",
       "</table>\n",
       "</div>"
      ],
      "text/plain": [
       "                                               text\n",
       "0  $NASTRAN Data File Generated from OpenVSP 3.16.2\n",
       "1                                   $Num_Tris: 3492\n",
       "2                                      $Num_Beams 0\n",
       "3                                                  \n",
       "4                        SET 1 = 1,2,3,4,5,6,7,8,9,"
      ]
     },
     "execution_count": 4,
     "metadata": {},
     "output_type": "execute_result"
    }
   ],
   "source": [
    "df.head()"
   ]
  },
  {
   "cell_type": "markdown",
   "metadata": {},
   "source": [
    "## write"
   ]
  },
  {
   "cell_type": "code",
   "execution_count": 8,
   "metadata": {
    "ExecuteTime": {
     "end_time": "2018-11-14T20:50:56.640733Z",
     "start_time": "2018-11-14T20:50:56.635736Z"
    }
   },
   "outputs": [],
   "source": [
    "li=df[\"text\"].tolist()"
   ]
  },
  {
   "cell_type": "code",
   "execution_count": 6,
   "metadata": {
    "ExecuteTime": {
     "end_time": "2018-11-14T20:35:57.463515Z",
     "start_time": "2018-11-14T20:35:57.426540Z"
    }
   },
   "outputs": [],
   "source": [
    "f = open('list.txt', 'w')\n",
    "for x in li:\n",
    "    f.write(str(x) + \"\\n\")\n",
    "f.close()"
   ]
  },
  {
   "cell_type": "markdown",
   "metadata": {},
   "source": [
    "## Separate df"
   ]
  },
  {
   "cell_type": "markdown",
   "metadata": {},
   "source": [
    "### separete list"
   ]
  },
  {
   "cell_type": "code",
   "execution_count": null,
   "metadata": {},
   "outputs": [],
   "source": [
    "separete_list = [\"BEGIN BULK\",\n",
    "                \"GRID\"]"
   ]
  },
  {
   "cell_type": "markdown",
   "metadata": {},
   "source": [
    "### header"
   ]
  },
  {
   "cell_type": "code",
   "execution_count": 7,
   "metadata": {
    "ExecuteTime": {
     "end_time": "2018-11-14T20:36:06.400559Z",
     "start_time": "2018-11-14T20:36:06.373575Z"
    }
   },
   "outputs": [
    {
     "data": {
      "text/html": [
       "<div>\n",
       "<style scoped>\n",
       "    .dataframe tbody tr th:only-of-type {\n",
       "        vertical-align: middle;\n",
       "    }\n",
       "\n",
       "    .dataframe tbody tr th {\n",
       "        vertical-align: top;\n",
       "    }\n",
       "\n",
       "    .dataframe thead th {\n",
       "        text-align: right;\n",
       "    }\n",
       "</style>\n",
       "<table border=\"1\" class=\"dataframe\">\n",
       "  <thead>\n",
       "    <tr style=\"text-align: right;\">\n",
       "      <th></th>\n",
       "      <th>text</th>\n",
       "    </tr>\n",
       "  </thead>\n",
       "  <tbody>\n",
       "    <tr>\n",
       "      <th>1166</th>\n",
       "      <td>10443,10444,10445,10446,10447,10448,10449,1045...</td>\n",
       "    </tr>\n",
       "    <tr>\n",
       "      <th>1167</th>\n",
       "      <td>10452,10453,10454,10455,10456,10457,10458,1045...</td>\n",
       "    </tr>\n",
       "    <tr>\n",
       "      <th>1168</th>\n",
       "      <td>10461,10462,10463,10464,10465,10466,10467,1046...</td>\n",
       "    </tr>\n",
       "    <tr>\n",
       "      <th>1169</th>\n",
       "      <td>10470,10471,10472,10473,10474,10475,10476,1047...</td>\n",
       "    </tr>\n",
       "    <tr>\n",
       "      <th>1170</th>\n",
       "      <td></td>\n",
       "    </tr>\n",
       "  </tbody>\n",
       "</table>\n",
       "</div>"
      ],
      "text/plain": [
       "                                                   text\n",
       "1166  10443,10444,10445,10446,10447,10448,10449,1045...\n",
       "1167  10452,10453,10454,10455,10456,10457,10458,1045...\n",
       "1168  10461,10462,10463,10464,10465,10466,10467,1046...\n",
       "1169  10470,10471,10472,10473,10474,10475,10476,1047...\n",
       "1170                                                   "
      ]
     },
     "execution_count": 7,
     "metadata": {},
     "output_type": "execute_result"
    }
   ],
   "source": [
    "header_num = df[df[\"text\"].str.contains('BEGIN BULK')].index[0]\n",
    "header = df[:header_num]\n",
    "header.tail()"
   ]
  },
  {
   "cell_type": "markdown",
   "metadata": {},
   "source": [
    "### GRID(open vsp)"
   ]
  },
  {
   "cell_type": "code",
   "execution_count": 6,
   "metadata": {
    "ExecuteTime": {
     "end_time": "2018-11-13T21:26:55.077170Z",
     "start_time": "2018-11-13T21:26:55.021208Z"
    }
   },
   "outputs": [
    {
     "data": {
      "text/html": [
       "<div>\n",
       "<style scoped>\n",
       "    .dataframe tbody tr th:only-of-type {\n",
       "        vertical-align: middle;\n",
       "    }\n",
       "\n",
       "    .dataframe tbody tr th {\n",
       "        vertical-align: top;\n",
       "    }\n",
       "\n",
       "    .dataframe thead th {\n",
       "        text-align: right;\n",
       "    }\n",
       "</style>\n",
       "<table border=\"1\" class=\"dataframe\">\n",
       "  <thead>\n",
       "    <tr style=\"text-align: right;\">\n",
       "      <th></th>\n",
       "      <th>name</th>\n",
       "      <th>id</th>\n",
       "      <th>zahyo_kei</th>\n",
       "      <th>x</th>\n",
       "      <th>y</th>\n",
       "      <th>z</th>\n",
       "    </tr>\n",
       "  </thead>\n",
       "  <tbody>\n",
       "    <tr>\n",
       "      <th>1174</th>\n",
       "      <td>GRID</td>\n",
       "      <td>1</td>\n",
       "      <td></td>\n",
       "      <td>0.00000</td>\n",
       "      <td>0.00000</td>\n",
       "      <td>0.00000</td>\n",
       "    </tr>\n",
       "  </tbody>\n",
       "</table>\n",
       "</div>"
      ],
      "text/plain": [
       "      name        id zahyo_kei         x         y         z\n",
       "1174  GRID         1             0.00000   0.00000   0.00000"
      ]
     },
     "execution_count": 6,
     "metadata": {},
     "output_type": "execute_result"
    }
   ],
   "source": [
    "df_grid=df[df[\"text\"].str.contains('GRID')]\n",
    "df_grid = df_grid[\"text\"].str.split(',', expand=True)\n",
    "df_grid.columns = [\"name\",\"id\",\"zahyo_kei\",\"x\",\"y\",\"z\"]\n",
    "# df_grid.tail()\n",
    "df_grid.head(1)"
   ]
  },
  {
   "cell_type": "code",
   "execution_count": 7,
   "metadata": {
    "ExecuteTime": {
     "end_time": "2018-11-13T21:26:55.613765Z",
     "start_time": "2018-11-13T21:26:55.602773Z"
    }
   },
   "outputs": [
    {
     "data": {
      "text/html": [
       "<div>\n",
       "<style scoped>\n",
       "    .dataframe tbody tr th:only-of-type {\n",
       "        vertical-align: middle;\n",
       "    }\n",
       "\n",
       "    .dataframe tbody tr th {\n",
       "        vertical-align: top;\n",
       "    }\n",
       "\n",
       "    .dataframe thead th {\n",
       "        text-align: right;\n",
       "    }\n",
       "</style>\n",
       "<table border=\"1\" class=\"dataframe\">\n",
       "  <thead>\n",
       "    <tr style=\"text-align: right;\">\n",
       "      <th></th>\n",
       "      <th>text</th>\n",
       "    </tr>\n",
       "  </thead>\n",
       "  <tbody>\n",
       "    <tr>\n",
       "      <th>1171</th>\n",
       "      <td>BEGIN BULK</td>\n",
       "    </tr>\n",
       "    <tr>\n",
       "      <th>1172</th>\n",
       "      <td></td>\n",
       "    </tr>\n",
       "    <tr>\n",
       "      <th>1173</th>\n",
       "      <td>$Skin Gridpoints</td>\n",
       "    </tr>\n",
       "  </tbody>\n",
       "</table>\n",
       "</div>"
      ],
      "text/plain": [
       "                  text\n",
       "1171        BEGIN BULK\n",
       "1172                  \n",
       "1173  $Skin Gridpoints"
      ]
     },
     "execution_count": 7,
     "metadata": {},
     "output_type": "execute_result"
    }
   ],
   "source": [
    "df_grid_heder=df[header_num:df_grid.index[0]]\n",
    "df_grid_heder"
   ]
  },
  {
   "cell_type": "markdown",
   "metadata": {},
   "source": [
    "### CTRIA6(open vsp)"
   ]
  },
  {
   "cell_type": "code",
   "execution_count": 8,
   "metadata": {
    "ExecuteTime": {
     "end_time": "2018-11-13T21:27:00.419111Z",
     "start_time": "2018-11-13T21:27:00.412117Z"
    }
   },
   "outputs": [
    {
     "data": {
      "text/plain": [
       "8159"
      ]
     },
     "execution_count": 8,
     "metadata": {},
     "output_type": "execute_result"
    }
   ],
   "source": [
    "df_grid.tail(1).index[0]"
   ]
  },
  {
   "cell_type": "code",
   "execution_count": 9,
   "metadata": {
    "ExecuteTime": {
     "end_time": "2018-11-13T21:27:01.262044Z",
     "start_time": "2018-11-13T21:27:01.257049Z"
    }
   },
   "outputs": [],
   "source": [
    "CTRIA6_start = df_grid[len(df_grid)-1:].index[0]\n"
   ]
  },
  {
   "cell_type": "code",
   "execution_count": 10,
   "metadata": {
    "ExecuteTime": {
     "end_time": "2018-11-13T21:27:06.425735Z",
     "start_time": "2018-11-13T21:27:06.404743Z"
    }
   },
   "outputs": [],
   "source": [
    "df_CTRIA6=df[df[\"text\"].str.contains('CTRIA6')]\n",
    "CTRIA6_start_num = df_CTRIA6.head(1).index[0]\n",
    "CTRIA6_end_num = df_CTRIA6.tail(1).index[0]+2"
   ]
  },
  {
   "cell_type": "code",
   "execution_count": 11,
   "metadata": {
    "ExecuteTime": {
     "end_time": "2018-11-13T21:27:09.188272Z",
     "start_time": "2018-11-13T21:27:09.177280Z"
    }
   },
   "outputs": [
    {
     "data": {
      "text/html": [
       "<div>\n",
       "<style scoped>\n",
       "    .dataframe tbody tr th:only-of-type {\n",
       "        vertical-align: middle;\n",
       "    }\n",
       "\n",
       "    .dataframe tbody tr th {\n",
       "        vertical-align: top;\n",
       "    }\n",
       "\n",
       "    .dataframe thead th {\n",
       "        text-align: right;\n",
       "    }\n",
       "</style>\n",
       "<table border=\"1\" class=\"dataframe\">\n",
       "  <thead>\n",
       "    <tr style=\"text-align: right;\">\n",
       "      <th></th>\n",
       "      <th>text</th>\n",
       "    </tr>\n",
       "  </thead>\n",
       "  <tbody>\n",
       "    <tr>\n",
       "      <th>8166</th>\n",
       "      <td>CTRIA6,    6987,       1,       1,       2,   ...</td>\n",
       "    </tr>\n",
       "    <tr>\n",
       "      <th>8167</th>\n",
       "      <td>,-65.7132</td>\n",
       "    </tr>\n",
       "    <tr>\n",
       "      <th>8168</th>\n",
       "      <td>CTRIA6,    6988,       1,       7,       8,   ...</td>\n",
       "    </tr>\n",
       "    <tr>\n",
       "      <th>8169</th>\n",
       "      <td>,-0.04143</td>\n",
       "    </tr>\n",
       "    <tr>\n",
       "      <th>8170</th>\n",
       "      <td>CTRIA6,    6989,       1,      13,      14,   ...</td>\n",
       "    </tr>\n",
       "  </tbody>\n",
       "</table>\n",
       "</div>"
      ],
      "text/plain": [
       "                                                   text\n",
       "8166  CTRIA6,    6987,       1,       1,       2,   ...\n",
       "8167                                          ,-65.7132\n",
       "8168  CTRIA6,    6988,       1,       7,       8,   ...\n",
       "8169                                          ,-0.04143\n",
       "8170  CTRIA6,    6989,       1,      13,      14,   ..."
      ]
     },
     "execution_count": 11,
     "metadata": {},
     "output_type": "execute_result"
    }
   ],
   "source": [
    "df_tmp0 = df[CTRIA6_start_num:CTRIA6_end_num]\n",
    "df_tmp0.head()"
   ]
  },
  {
   "cell_type": "code",
   "execution_count": 12,
   "metadata": {
    "ExecuteTime": {
     "end_time": "2018-11-13T21:27:17.167948Z",
     "start_time": "2018-11-13T21:27:17.159955Z"
    }
   },
   "outputs": [],
   "source": [
    "df_tmp1 = df_tmp0[df_tmp0.index % 2 == 0]\n",
    "df_tmp2 = df_tmp0[df_tmp0.index % 2 != 0]"
   ]
  },
  {
   "cell_type": "code",
   "execution_count": 13,
   "metadata": {
    "ExecuteTime": {
     "end_time": "2018-11-13T21:27:17.910012Z",
     "start_time": "2018-11-13T21:27:17.904016Z"
    }
   },
   "outputs": [
    {
     "data": {
      "text/plain": [
       "(3492, 3492)"
      ]
     },
     "execution_count": 13,
     "metadata": {},
     "output_type": "execute_result"
    }
   ],
   "source": [
    "df_tmp1.size,df_tmp2.size"
   ]
  },
  {
   "cell_type": "code",
   "execution_count": 17,
   "metadata": {
    "ExecuteTime": {
     "end_time": "2018-11-13T21:28:33.920550Z",
     "start_time": "2018-11-13T21:28:33.913554Z"
    }
   },
   "outputs": [],
   "source": [
    "df_test = pd.DataFrame(df_tmp1[\"text\"],df_tmp2[\"text\"])"
   ]
  },
  {
   "cell_type": "code",
   "execution_count": 21,
   "metadata": {
    "ExecuteTime": {
     "end_time": "2018-11-13T21:29:21.564537Z",
     "start_time": "2018-11-13T21:29:21.556541Z"
    }
   },
   "outputs": [
    {
     "data": {
      "text/plain": [
       "8166     CTRIA6,    6987,       1,       1,       2,   ...\n",
       "8168     CTRIA6,    6988,       1,       7,       8,   ...\n",
       "8170     CTRIA6,    6989,       1,      13,      14,   ...\n",
       "8172     CTRIA6,    6990,       1,      19,      20,   ...\n",
       "8174     CTRIA6,    6991,       1,      25,      26,   ...\n",
       "8176     CTRIA6,    6992,       1,      31,      32,   ...\n",
       "8178     CTRIA6,    6993,       1,      37,      38,   ...\n",
       "8180     CTRIA6,    6994,       1,      43,      44,   ...\n",
       "8182     CTRIA6,    6995,       1,      49,      50,   ...\n",
       "8184     CTRIA6,    6996,       1,      49,      55,   ...\n",
       "8186     CTRIA6,    6997,       1,      60,      61,   ...\n",
       "8188     CTRIA6,    6998,       1,      66,      37,   ...\n",
       "8190     CTRIA6,    6999,       1,      71,      72,   ...\n",
       "8192     CTRIA6,    7000,       1,      77,      78,   ...\n",
       "8194     CTRIA6,    7001,       1,      66,      67,   ...\n",
       "8196     CTRIA6,    7002,       1,      86,      87,   ...\n",
       "8198     CTRIA6,    7003,       1,      92,      93,   ...\n",
       "8200     CTRIA6,    7004,       1,      98,      99,   ...\n",
       "8202     CTRIA6,    7005,       1,     104,     105,   ...\n",
       "8204     CTRIA6,    7006,       1,     110,     105,   ...\n",
       "8206     CTRIA6,    7007,       1,      71,     115,   ...\n",
       "8208     CTRIA6,    7008,       1,     118,     119,   ...\n",
       "8210     CTRIA6,    7009,       1,     124,     125,   ...\n",
       "8212     CTRIA6,    7010,       1,     104,     130,   ...\n",
       "8214     CTRIA6,    7011,       1,     135,     136,   ...\n",
       "8216     CTRIA6,    7012,       1,     140,     141,   ...\n",
       "8218     CTRIA6,    7013,       1,     140,       9,   ...\n",
       "8220     CTRIA6,    7014,       1,     148,     149,   ...\n",
       "8222     CTRIA6,    7015,       1,      20,     154,   ...\n",
       "8224     CTRIA6,    7016,       1,      98,     159,   ...\n",
       "                               ...                        \n",
       "15090    CTRIA6,   10449,       1,    6391,    6343,   ...\n",
       "15092    CTRIA6,   10450,       1,    6825,    6391,   ...\n",
       "15094    CTRIA6,   10451,       1,    6448,    3818,   ...\n",
       "15096    CTRIA6,   10452,       1,    6825,    6451,   ...\n",
       "15098    CTRIA6,   10453,       1,    6391,    6825,   ...\n",
       "15100    CTRIA6,   10454,       1,    6398,    6391,   ...\n",
       "15102    CTRIA6,   10455,       1,    6328,    6327,   ...\n",
       "15104    CTRIA6,   10456,       1,    6398,    6949,   ...\n",
       "15106    CTRIA6,   10457,       1,    6373,    6967,   ...\n",
       "15108    CTRIA6,   10458,       1,    6804,    6677,   ...\n",
       "15110    CTRIA6,   10459,       1,    6373,    6940,   ...\n",
       "15112    CTRIA6,   10460,       1,    6804,    6967,   ...\n",
       "15114    CTRIA6,   10461,       1,    6270,    3258,   ...\n",
       "15116    CTRIA6,   10462,       1,    6273,    6885,   ...\n",
       "15118    CTRIA6,   10463,       1,    6528,    6316,   ...\n",
       "15120    CTRIA6,   10464,       1,    6547,    6528,   ...\n",
       "15122    CTRIA6,   10465,       1,    6472,    6541,   ...\n",
       "15124    CTRIA6,   10466,       1,    6547,    6473,   ...\n",
       "15126    CTRIA6,   10467,       1,    6579,    6276,   ...\n",
       "15128    CTRIA6,   10468,       1,    2891,    6270,   ...\n",
       "15130    CTRIA6,   10469,       1,    6579,    3738,   ...\n",
       "15132    CTRIA6,   10470,       1,    3738,      25,   ...\n",
       "15134    CTRIA6,   10471,       1,    6305,    3750,   ...\n",
       "15136    CTRIA6,   10472,       1,    6305,    6952,   ...\n",
       "15138    CTRIA6,   10473,       1,    6952,    6980,   ...\n",
       "15140    CTRIA6,   10474,       1,    6515,    6952,   ...\n",
       "15142    CTRIA6,   10475,       1,    3752,    6980,   ...\n",
       "15144    CTRIA6,   10476,       1,    6904,    6520,   ...\n",
       "15146    CTRIA6,   10477,       1,    3752,    3906,   ...\n",
       "15148    CTRIA6,   10478,       1,    6904,    6980,   ...\n",
       "Name: text, Length: 3492, dtype: object"
      ]
     },
     "execution_count": 21,
     "metadata": {},
     "output_type": "execute_result"
    }
   ],
   "source": [
    "df_tmp1[\"text\"]"
   ]
  },
  {
   "cell_type": "code",
   "execution_count": null,
   "metadata": {},
   "outputs": [],
   "source": []
  }
 ],
 "metadata": {
  "kernelspec": {
   "display_name": "Python 3",
   "language": "python",
   "name": "python3"
  },
  "language_info": {
   "codemirror_mode": {
    "name": "ipython",
    "version": 3
   },
   "file_extension": ".py",
   "mimetype": "text/x-python",
   "name": "python",
   "nbconvert_exporter": "python",
   "pygments_lexer": "ipython3",
   "version": "3.6.6"
  },
  "toc": {
   "base_numbering": 1,
   "nav_menu": {},
   "number_sections": true,
   "sideBar": true,
   "skip_h1_title": false,
   "title_cell": "Table of Contents",
   "title_sidebar": "Contents",
   "toc_cell": false,
   "toc_position": {},
   "toc_section_display": true,
   "toc_window_display": false
  },
  "varInspector": {
   "cols": {
    "lenName": 16,
    "lenType": 16,
    "lenVar": 40
   },
   "kernels_config": {
    "python": {
     "delete_cmd_postfix": "",
     "delete_cmd_prefix": "del ",
     "library": "var_list.py",
     "varRefreshCmd": "print(var_dic_list())"
    },
    "r": {
     "delete_cmd_postfix": ") ",
     "delete_cmd_prefix": "rm(",
     "library": "var_list.r",
     "varRefreshCmd": "cat(var_dic_list()) "
    }
   },
   "types_to_exclude": [
    "module",
    "function",
    "builtin_function_or_method",
    "instance",
    "_Feature"
   ],
   "window_display": false
  }
 },
 "nbformat": 4,
 "nbformat_minor": 2
}
