{
 "cells": [
  {
   "cell_type": "code",
   "execution_count": 1,
   "metadata": {
    "ExecuteTime": {
     "end_time": "2018-11-27T12:54:28.381503Z",
     "start_time": "2018-11-27T12:54:27.545060Z"
    }
   },
   "outputs": [],
   "source": [
    "! code ."
   ]
  },
  {
   "cell_type": "markdown",
   "metadata": {},
   "source": [
    "## Read Nastran input file"
   ]
  },
  {
   "cell_type": "markdown",
   "metadata": {},
   "source": [
    "from pyNastran\\bdf\\bdf_interface\\pybdf.py _show_bad_file"
   ]
  },
  {
   "cell_type": "code",
   "execution_count": 1,
   "metadata": {
    "ExecuteTime": {
     "end_time": "2018-11-27T13:01:49.435246Z",
     "start_time": "2018-11-27T13:01:49.017929Z"
    }
   },
   "outputs": [],
   "source": [
    "import pandastran"
   ]
  },
  {
   "cell_type": "code",
   "execution_count": 24,
   "metadata": {
    "ExecuteTime": {
     "end_time": "2018-11-27T13:30:04.805852Z",
     "start_time": "2018-11-27T13:30:04.771875Z"
    }
   },
   "outputs": [
    {
     "data": {
      "text/html": [
       "<div>\n",
       "<style scoped>\n",
       "    .dataframe tbody tr th:only-of-type {\n",
       "        vertical-align: middle;\n",
       "    }\n",
       "\n",
       "    .dataframe tbody tr th {\n",
       "        vertical-align: top;\n",
       "    }\n",
       "\n",
       "    .dataframe thead th {\n",
       "        text-align: right;\n",
       "    }\n",
       "</style>\n",
       "<table border=\"1\" class=\"dataframe\">\n",
       "  <thead>\n",
       "    <tr style=\"text-align: right;\">\n",
       "      <th></th>\n",
       "      <th>text</th>\n",
       "    </tr>\n",
       "  </thead>\n",
       "  <tbody>\n",
       "    <tr>\n",
       "      <th>0</th>\n",
       "      <td>$NASTRAN Data File Generated from OpenVSP 3.16.2</td>\n",
       "    </tr>\n",
       "    <tr>\n",
       "      <th>1</th>\n",
       "      <td>$Num_Tris: 3492</td>\n",
       "    </tr>\n",
       "  </tbody>\n",
       "</table>\n",
       "</div>"
      ],
      "text/plain": [
       "                                               text\n",
       "0  $NASTRAN Data File Generated from OpenVSP 3.16.2\n",
       "1                                   $Num_Tris: 3492"
      ]
     },
     "execution_count": 24,
     "metadata": {},
     "output_type": "execute_result"
    }
   ],
   "source": [
    "self=pandastran.pandastran()\n",
    "self.read_file(\"test_openvsp.dat\")\n",
    "self.df_in.head(2)"
   ]
  },
  {
   "cell_type": "markdown",
   "metadata": {},
   "source": [
    "## out_file"
   ]
  },
  {
   "cell_type": "code",
   "execution_count": null,
   "metadata": {
    "ExecuteTime": {
     "end_time": "2018-11-26T12:07:16.825539Z",
     "start_time": "2018-11-26T12:07:16.821541Z"
    }
   },
   "outputs": [],
   "source": [
    "df_out=self.df_in"
   ]
  },
  {
   "cell_type": "code",
   "execution_count": null,
   "metadata": {
    "ExecuteTime": {
     "end_time": "2018-11-26T12:07:17.376083Z",
     "start_time": "2018-11-26T12:07:17.351099Z"
    }
   },
   "outputs": [],
   "source": [
    "self.write_file(df_out)"
   ]
  },
  {
   "cell_type": "markdown",
   "metadata": {},
   "source": [
    "## make card df"
   ]
  },
  {
   "cell_type": "markdown",
   "metadata": {},
   "source": [
    "### openVSP"
   ]
  },
  {
   "cell_type": "code",
   "execution_count": 5,
   "metadata": {
    "ExecuteTime": {
     "end_time": "2018-11-27T13:08:30.781249Z",
     "start_time": "2018-11-27T13:08:30.725286Z"
    }
   },
   "outputs": [
    {
     "data": {
      "text/html": [
       "<div>\n",
       "<style scoped>\n",
       "    .dataframe tbody tr th:only-of-type {\n",
       "        vertical-align: middle;\n",
       "    }\n",
       "\n",
       "    .dataframe tbody tr th {\n",
       "        vertical-align: top;\n",
       "    }\n",
       "\n",
       "    .dataframe thead th {\n",
       "        text-align: right;\n",
       "    }\n",
       "</style>\n",
       "<table border=\"1\" class=\"dataframe\">\n",
       "  <thead>\n",
       "    <tr style=\"text-align: right;\">\n",
       "      <th></th>\n",
       "      <th>name</th>\n",
       "      <th>id</th>\n",
       "      <th>zahyo_kei</th>\n",
       "      <th>x</th>\n",
       "      <th>y</th>\n",
       "      <th>z</th>\n",
       "    </tr>\n",
       "  </thead>\n",
       "  <tbody>\n",
       "    <tr>\n",
       "      <th>1174</th>\n",
       "      <td>GRID</td>\n",
       "      <td>1</td>\n",
       "      <td></td>\n",
       "      <td>0.00000</td>\n",
       "      <td>0.00000</td>\n",
       "      <td>0.00000</td>\n",
       "    </tr>\n",
       "    <tr>\n",
       "      <th>1175</th>\n",
       "      <td>GRID</td>\n",
       "      <td>2</td>\n",
       "      <td></td>\n",
       "      <td>0.06571</td>\n",
       "      <td>0.00000</td>\n",
       "      <td>0.07404</td>\n",
       "    </tr>\n",
       "    <tr>\n",
       "      <th>1176</th>\n",
       "      <td>GRID</td>\n",
       "      <td>3</td>\n",
       "      <td></td>\n",
       "      <td>0.06571</td>\n",
       "      <td>0.07404</td>\n",
       "      <td>0.00000</td>\n",
       "    </tr>\n",
       "    <tr>\n",
       "      <th>1177</th>\n",
       "      <td>GRID</td>\n",
       "      <td>4</td>\n",
       "      <td></td>\n",
       "      <td>0.03285</td>\n",
       "      <td>0.00000</td>\n",
       "      <td>0.03702</td>\n",
       "    </tr>\n",
       "    <tr>\n",
       "      <th>1178</th>\n",
       "      <td>GRID</td>\n",
       "      <td>5</td>\n",
       "      <td></td>\n",
       "      <td>0.06571</td>\n",
       "      <td>0.03702</td>\n",
       "      <td>0.03702</td>\n",
       "    </tr>\n",
       "  </tbody>\n",
       "</table>\n",
       "</div>"
      ],
      "text/plain": [
       "      name        id zahyo_kei         x         y         z\n",
       "1174  GRID         1             0.00000   0.00000   0.00000\n",
       "1175  GRID         2             0.06571   0.00000   0.07404\n",
       "1176  GRID         3             0.06571   0.07404   0.00000\n",
       "1177  GRID         4             0.03285   0.00000   0.03702\n",
       "1178  GRID         5             0.06571   0.03702   0.03702"
      ]
     },
     "execution_count": 5,
     "metadata": {},
     "output_type": "execute_result"
    }
   ],
   "source": [
    "df_GRID=self._make_df_card(\"GRID\")\n",
    "df_GRID = self._separate_open_vsp(df_GRID)\n",
    "df_GRID.columns = [\"name\",\"id\",\"zahyo_kei\",\"x\",\"y\",\"z\"]\n",
    "df_GRID.head()"
   ]
  },
  {
   "cell_type": "markdown",
   "metadata": {},
   "source": [
    "### Hyper mesh"
   ]
  },
  {
   "cell_type": "code",
   "execution_count": 3,
   "metadata": {
    "ExecuteTime": {
     "end_time": "2018-11-27T13:01:53.043332Z",
     "start_time": "2018-11-27T13:01:52.890240Z"
    }
   },
   "outputs": [
    {
     "data": {
      "text/html": [
       "<div>\n",
       "<style scoped>\n",
       "    .dataframe tbody tr th:only-of-type {\n",
       "        vertical-align: middle;\n",
       "    }\n",
       "\n",
       "    .dataframe tbody tr th {\n",
       "        vertical-align: top;\n",
       "    }\n",
       "\n",
       "    .dataframe thead th {\n",
       "        text-align: right;\n",
       "    }\n",
       "</style>\n",
       "<table border=\"1\" class=\"dataframe\">\n",
       "  <thead>\n",
       "    <tr style=\"text-align: right;\">\n",
       "      <th></th>\n",
       "      <th>name</th>\n",
       "      <th>id</th>\n",
       "      <th>zahyo_kei</th>\n",
       "      <th>x</th>\n",
       "      <th>y</th>\n",
       "      <th>z</th>\n",
       "    </tr>\n",
       "  </thead>\n",
       "  <tbody>\n",
       "    <tr>\n",
       "      <th>0</th>\n",
       "      <td>GRID</td>\n",
       "      <td>1</td>\n",
       "      <td></td>\n",
       "      <td>0.00000</td>\n",
       "      <td>0.00000</td>\n",
       "      <td>0.00000</td>\n",
       "    </tr>\n",
       "    <tr>\n",
       "      <th>1</th>\n",
       "      <td>GRID</td>\n",
       "      <td>2</td>\n",
       "      <td></td>\n",
       "      <td>0.06571</td>\n",
       "      <td>0.00000</td>\n",
       "      <td>0.07404</td>\n",
       "    </tr>\n",
       "    <tr>\n",
       "      <th>2</th>\n",
       "      <td>GRID</td>\n",
       "      <td>3</td>\n",
       "      <td></td>\n",
       "      <td>0.06571</td>\n",
       "      <td>0.07404</td>\n",
       "      <td>0.00000</td>\n",
       "    </tr>\n",
       "    <tr>\n",
       "      <th>3</th>\n",
       "      <td>GRID</td>\n",
       "      <td>4</td>\n",
       "      <td></td>\n",
       "      <td>0.03285</td>\n",
       "      <td>0.00000</td>\n",
       "      <td>0.03702</td>\n",
       "    </tr>\n",
       "    <tr>\n",
       "      <th>4</th>\n",
       "      <td>GRID</td>\n",
       "      <td>5</td>\n",
       "      <td></td>\n",
       "      <td>0.06571</td>\n",
       "      <td>0.03702</td>\n",
       "      <td>0.03702</td>\n",
       "    </tr>\n",
       "  </tbody>\n",
       "</table>\n",
       "</div>"
      ],
      "text/plain": [
       "       name        id zahyo_kei         x         y         z\n",
       "0  GRID             1             0.00000   0.00000   0.00000\n",
       "1  GRID             2             0.06571   0.00000   0.07404\n",
       "2  GRID             3             0.06571   0.07404   0.00000\n",
       "3  GRID             4             0.03285   0.00000   0.03702\n",
       "4  GRID             5             0.06571   0.03702   0.03702"
      ]
     },
     "execution_count": 3,
     "metadata": {},
     "output_type": "execute_result"
    }
   ],
   "source": [
    "self=pandastran.pandastran()\n",
    "self.read_file(\"out_file.dat\")\n",
    "df=self.df_in.copy()\n",
    "df=self._separate_8moji(df)\n",
    "df.columns = [\"name\",\"id\",\"zahyo_kei\",\"x\",\"y\",\"z\"]\n",
    "df.head()"
   ]
  },
  {
   "cell_type": "markdown",
   "metadata": {},
   "source": [
    "## 8moji"
   ]
  },
  {
   "cell_type": "code",
   "execution_count": null,
   "metadata": {
    "ExecuteTime": {
     "end_time": "2018-11-26T12:08:20.159775Z",
     "start_time": "2018-11-26T12:08:20.124798Z"
    }
   },
   "outputs": [],
   "source": [
    "df_GRID = self._eight_moji(df_GRID)\n",
    "df_GRID.head()"
   ]
  },
  {
   "cell_type": "markdown",
   "metadata": {},
   "source": [
    "## create output file"
   ]
  },
  {
   "cell_type": "code",
   "execution_count": null,
   "metadata": {
    "ExecuteTime": {
     "end_time": "2018-11-26T12:08:31.017611Z",
     "start_time": "2018-11-26T12:08:30.833725Z"
    }
   },
   "outputs": [],
   "source": [
    "df_GRID = self._create_output_row(df_GRID)\n",
    "df_GRID.head()"
   ]
  },
  {
   "cell_type": "code",
   "execution_count": null,
   "metadata": {
    "ExecuteTime": {
     "end_time": "2018-11-26T12:09:28.957602Z",
     "start_time": "2018-11-26T12:09:28.933620Z"
    },
    "scrolled": true
   },
   "outputs": [],
   "source": [
    "self.write_file(df_GRID)"
   ]
  },
  {
   "cell_type": "markdown",
   "metadata": {},
   "source": [
    "## factory"
   ]
  },
  {
   "cell_type": "markdown",
   "metadata": {},
   "source": [
    "### header"
   ]
  },
  {
   "cell_type": "code",
   "execution_count": null,
   "metadata": {
    "ExecuteTime": {
     "end_time": "2018-11-23T01:43:53.851776Z",
     "start_time": "2018-11-23T01:43:53.827791Z"
    }
   },
   "outputs": [],
   "source": [
    "header_num = df[df[\"text\"].str.contains('BEGIN BULK')].index[0]\n",
    "header = df[:header_num]\n",
    "header.tail()"
   ]
  },
  {
   "cell_type": "code",
   "execution_count": null,
   "metadata": {
    "ExecuteTime": {
     "end_time": "2018-11-23T01:44:04.199291Z",
     "start_time": "2018-11-23T01:44:04.187299Z"
    }
   },
   "outputs": [],
   "source": [
    "df_grid_heder=df[header_num:df_grid.index[0]]\n",
    "df_grid_heder"
   ]
  },
  {
   "cell_type": "markdown",
   "metadata": {},
   "source": [
    "### CTRIA6(open vsp)"
   ]
  },
  {
   "cell_type": "code",
   "execution_count": 32,
   "metadata": {
    "ExecuteTime": {
     "end_time": "2018-11-27T13:33:04.350355Z",
     "start_time": "2018-11-27T13:33:04.341362Z"
    }
   },
   "outputs": [
    {
     "data": {
      "text/html": [
       "<div>\n",
       "<style scoped>\n",
       "    .dataframe tbody tr th:only-of-type {\n",
       "        vertical-align: middle;\n",
       "    }\n",
       "\n",
       "    .dataframe tbody tr th {\n",
       "        vertical-align: top;\n",
       "    }\n",
       "\n",
       "    .dataframe thead th {\n",
       "        text-align: right;\n",
       "    }\n",
       "</style>\n",
       "<table border=\"1\" class=\"dataframe\">\n",
       "  <thead>\n",
       "    <tr style=\"text-align: right;\">\n",
       "      <th></th>\n",
       "      <th>text</th>\n",
       "    </tr>\n",
       "  </thead>\n",
       "  <tbody>\n",
       "    <tr>\n",
       "      <th>15100</th>\n",
       "      <td>CTRIA6,   10454,       1,    6398,    6391,   ...</td>\n",
       "    </tr>\n",
       "    <tr>\n",
       "      <th>15101</th>\n",
       "      <td>,-51.6463</td>\n",
       "    </tr>\n",
       "    <tr>\n",
       "      <th>15102</th>\n",
       "      <td>CTRIA6,   10455,       1,    6328,    6327,   ...</td>\n",
       "    </tr>\n",
       "    <tr>\n",
       "      <th>15103</th>\n",
       "      <td>, 112.549</td>\n",
       "    </tr>\n",
       "    <tr>\n",
       "      <th>15104</th>\n",
       "      <td>CTRIA6,   10456,       1,    6398,    6949,   ...</td>\n",
       "    </tr>\n",
       "  </tbody>\n",
       "</table>\n",
       "</div>"
      ],
      "text/plain": [
       "                                                    text\n",
       "15100  CTRIA6,   10454,       1,    6398,    6391,   ...\n",
       "15101                                          ,-51.6463\n",
       "15102  CTRIA6,   10455,       1,    6328,    6327,   ...\n",
       "15103                                          , 112.549\n",
       "15104  CTRIA6,   10456,       1,    6398,    6949,   ..."
      ]
     },
     "execution_count": 32,
     "metadata": {},
     "output_type": "execute_result"
    }
   ],
   "source": [
    "self.df_in[15100:].head()"
   ]
  },
  {
   "cell_type": "code",
   "execution_count": 36,
   "metadata": {
    "ExecuteTime": {
     "end_time": "2018-11-27T13:34:45.692074Z",
     "start_time": "2018-11-27T13:34:45.630109Z"
    }
   },
   "outputs": [],
   "source": [
    "start_num = self._make_df_card(\"CTRIA6\").head(1).index[0]\n",
    "end_num = self._make_df_card(\"CTRIA6\").tail(1).index[0]+1\n",
    "df=self.df_in.copy()\n",
    "df=df[start_num:end_num]\n",
    "df=self._separate_open_vsp(df)"
   ]
  },
  {
   "cell_type": "code",
   "execution_count": 37,
   "metadata": {
    "ExecuteTime": {
     "end_time": "2018-11-27T13:34:46.376178Z",
     "start_time": "2018-11-27T13:34:46.356192Z"
    }
   },
   "outputs": [
    {
     "data": {
      "text/html": [
       "<div>\n",
       "<style scoped>\n",
       "    .dataframe tbody tr th:only-of-type {\n",
       "        vertical-align: middle;\n",
       "    }\n",
       "\n",
       "    .dataframe tbody tr th {\n",
       "        vertical-align: top;\n",
       "    }\n",
       "\n",
       "    .dataframe thead th {\n",
       "        text-align: right;\n",
       "    }\n",
       "</style>\n",
       "<table border=\"1\" class=\"dataframe\">\n",
       "  <thead>\n",
       "    <tr style=\"text-align: right;\">\n",
       "      <th></th>\n",
       "      <th>0</th>\n",
       "      <th>1</th>\n",
       "      <th>2</th>\n",
       "      <th>3</th>\n",
       "      <th>4</th>\n",
       "      <th>5</th>\n",
       "      <th>6</th>\n",
       "      <th>7</th>\n",
       "      <th>8</th>\n",
       "      <th>9</th>\n",
       "    </tr>\n",
       "  </thead>\n",
       "  <tbody>\n",
       "    <tr>\n",
       "      <th>8166</th>\n",
       "      <td>CTRIA6</td>\n",
       "      <td>6987</td>\n",
       "      <td>1</td>\n",
       "      <td>1</td>\n",
       "      <td>2</td>\n",
       "      <td>3</td>\n",
       "      <td>4</td>\n",
       "      <td>5</td>\n",
       "      <td>6</td>\n",
       "      <td></td>\n",
       "    </tr>\n",
       "    <tr>\n",
       "      <th>8167</th>\n",
       "      <td></td>\n",
       "      <td>-65.7132</td>\n",
       "      <td>None</td>\n",
       "      <td>None</td>\n",
       "      <td>None</td>\n",
       "      <td>None</td>\n",
       "      <td>None</td>\n",
       "      <td>None</td>\n",
       "      <td>None</td>\n",
       "      <td>None</td>\n",
       "    </tr>\n",
       "    <tr>\n",
       "      <th>8168</th>\n",
       "      <td>CTRIA6</td>\n",
       "      <td>6988</td>\n",
       "      <td>1</td>\n",
       "      <td>7</td>\n",
       "      <td>8</td>\n",
       "      <td>9</td>\n",
       "      <td>10</td>\n",
       "      <td>11</td>\n",
       "      <td>12</td>\n",
       "      <td></td>\n",
       "    </tr>\n",
       "    <tr>\n",
       "      <th>8169</th>\n",
       "      <td></td>\n",
       "      <td>-0.04143</td>\n",
       "      <td>None</td>\n",
       "      <td>None</td>\n",
       "      <td>None</td>\n",
       "      <td>None</td>\n",
       "      <td>None</td>\n",
       "      <td>None</td>\n",
       "      <td>None</td>\n",
       "      <td>None</td>\n",
       "    </tr>\n",
       "    <tr>\n",
       "      <th>8170</th>\n",
       "      <td>CTRIA6</td>\n",
       "      <td>6989</td>\n",
       "      <td>1</td>\n",
       "      <td>13</td>\n",
       "      <td>14</td>\n",
       "      <td>15</td>\n",
       "      <td>16</td>\n",
       "      <td>17</td>\n",
       "      <td>18</td>\n",
       "      <td></td>\n",
       "    </tr>\n",
       "  </tbody>\n",
       "</table>\n",
       "</div>"
      ],
      "text/plain": [
       "           0         1         2         3         4         5         6  \\\n",
       "8166  CTRIA6      6987         1         1         2         3         4   \n",
       "8167          -65.7132      None      None      None      None      None   \n",
       "8168  CTRIA6      6988         1         7         8         9        10   \n",
       "8169          -0.04143      None      None      None      None      None   \n",
       "8170  CTRIA6      6989         1        13        14        15        16   \n",
       "\n",
       "             7         8     9  \n",
       "8166         5         6        \n",
       "8167      None      None  None  \n",
       "8168        11        12        \n",
       "8169      None      None  None  \n",
       "8170        17        18        "
      ]
     },
     "execution_count": 37,
     "metadata": {},
     "output_type": "execute_result"
    }
   ],
   "source": [
    "df.head()"
   ]
  },
  {
   "cell_type": "code",
   "execution_count": null,
   "metadata": {},
   "outputs": [],
   "source": []
  },
  {
   "cell_type": "code",
   "execution_count": null,
   "metadata": {},
   "outputs": [],
   "source": []
  },
  {
   "cell_type": "code",
   "execution_count": null,
   "metadata": {
    "ExecuteTime": {
     "end_time": "2018-11-23T01:46:10.077961Z",
     "start_time": "2018-11-23T01:46:10.072963Z"
    }
   },
   "outputs": [],
   "source": [
    "df_grid.tail(1).index[0]\n",
    "CTRIA6_start = df_grid[len(df_grid)-1:].index[0]"
   ]
  },
  {
   "cell_type": "code",
   "execution_count": null,
   "metadata": {
    "ExecuteTime": {
     "end_time": "2018-11-23T01:46:44.550834Z",
     "start_time": "2018-11-23T01:46:44.529846Z"
    }
   },
   "outputs": [],
   "source": [
    "df_CTRIA6=df[df[\"text\"].str.contains('CTRIA6')]\n",
    "CTRIA6_start_num = df_CTRIA6.head(1).index[0]\n",
    "CTRIA6_end_num = df_CTRIA6.tail(1).index[0]+2\n",
    "df_tmp0 = df[CTRIA6_start_num:CTRIA6_end_num]\n",
    "df_tmp0.head()"
   ]
  },
  {
   "cell_type": "code",
   "execution_count": null,
   "metadata": {
    "ExecuteTime": {
     "end_time": "2018-11-23T01:44:31.177671Z",
     "start_time": "2018-11-23T01:44:31.171667Z"
    }
   },
   "outputs": [],
   "source": [
    "df_tmp1 = df_tmp0[df_tmp0.index % 2 == 0]\n",
    "df_tmp2 = df_tmp0[df_tmp0.index % 2 != 0]"
   ]
  },
  {
   "cell_type": "code",
   "execution_count": null,
   "metadata": {
    "ExecuteTime": {
     "end_time": "2018-11-23T01:48:25.367338Z",
     "start_time": "2018-11-23T01:48:25.083737Z"
    }
   },
   "outputs": [],
   "source": [
    "df_ctria=df_tmp1.join(df_tmp2)"
   ]
  },
  {
   "cell_type": "code",
   "execution_count": null,
   "metadata": {
    "ExecuteTime": {
     "end_time": "2018-11-23T01:44:32.096970Z",
     "start_time": "2018-11-23T01:44:32.085977Z"
    }
   },
   "outputs": [],
   "source": [
    "df_test = pd.DataFrame(df_tmp1,df_tmp2)"
   ]
  },
  {
   "cell_type": "code",
   "execution_count": null,
   "metadata": {
    "ExecuteTime": {
     "end_time": "2018-11-23T01:45:14.833776Z",
     "start_time": "2018-11-23T01:45:14.815789Z"
    }
   },
   "outputs": [],
   "source": [
    "df_tmp1"
   ]
  },
  {
   "cell_type": "code",
   "execution_count": null,
   "metadata": {},
   "outputs": [],
   "source": []
  }
 ],
 "metadata": {
  "kernelspec": {
   "display_name": "Python 3",
   "language": "python",
   "name": "python3"
  },
  "language_info": {
   "codemirror_mode": {
    "name": "ipython",
    "version": 3
   },
   "file_extension": ".py",
   "mimetype": "text/x-python",
   "name": "python",
   "nbconvert_exporter": "python",
   "pygments_lexer": "ipython3",
   "version": "3.6.6"
  },
  "nbTranslate": {
   "displayLangs": [
    "japanese",
    "en"
   ],
   "hotkey": "alt-t",
   "langInMainMenu": true,
   "sourceLang": "en",
   "targetLang": "japanese",
   "useGoogleTranslate": true
  },
  "toc": {
   "base_numbering": 1,
   "nav_menu": {},
   "number_sections": true,
   "sideBar": true,
   "skip_h1_title": false,
   "title_cell": "Table of Contents",
   "title_sidebar": "Contents",
   "toc_cell": false,
   "toc_position": {},
   "toc_section_display": true,
   "toc_window_display": true
  },
  "varInspector": {
   "cols": {
    "lenName": 16,
    "lenType": 16,
    "lenVar": 40
   },
   "kernels_config": {
    "python": {
     "delete_cmd_postfix": "",
     "delete_cmd_prefix": "del ",
     "library": "var_list.py",
     "varRefreshCmd": "print(var_dic_list())"
    },
    "r": {
     "delete_cmd_postfix": ") ",
     "delete_cmd_prefix": "rm(",
     "library": "var_list.r",
     "varRefreshCmd": "cat(var_dic_list()) "
    }
   },
   "types_to_exclude": [
    "module",
    "function",
    "builtin_function_or_method",
    "instance",
    "_Feature"
   ],
   "window_display": false
  }
 },
 "nbformat": 4,
 "nbformat_minor": 2
}
