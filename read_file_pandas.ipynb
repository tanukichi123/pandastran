{
 "cells": [
  {
   "cell_type": "markdown",
   "metadata": {},
   "source": [
    "## Read Nastran input file"
   ]
  },
  {
   "cell_type": "markdown",
   "metadata": {},
   "source": [
    "from pyNastran\\bdf\\bdf_interface\\pybdf.py _show_bad_file"
   ]
  },
  {
   "cell_type": "markdown",
   "metadata": {},
   "source": [
    "### set file_name"
   ]
  },
  {
   "cell_type": "code",
   "execution_count": 1,
   "metadata": {
    "ExecuteTime": {
     "end_time": "2018-11-13T21:26:47.272029Z",
     "start_time": "2018-11-13T21:26:47.268037Z"
    }
   },
   "outputs": [],
   "source": [
    "bdf_filename = \"test_openvsp.dat\""
   ]
  },
  {
   "cell_type": "markdown",
   "metadata": {},
   "source": [
    "### read file"
   ]
  },
  {
   "cell_type": "code",
   "execution_count": 2,
   "metadata": {
    "ExecuteTime": {
     "end_time": "2018-11-13T21:26:48.559482Z",
     "start_time": "2018-11-13T21:26:48.525508Z"
    }
   },
   "outputs": [
    {
     "name": "stdout",
     "output_type": "stream",
     "text": [
      "ENCODING - show_bad_file='utf-8'\n",
      "success!\n"
     ]
    }
   ],
   "source": [
    "lines = []  # type: List[str]\n",
    "encoding = \"utf-8\"\n",
    "print('ENCODING - show_bad_file=%r' % encoding)\n",
    "\n",
    "with open(bdf_filename, 'r', encoding=encoding) as bdf_file:\n",
    "    iline = 0\n",
    "    nblank = 0\n",
    "    while 1:\n",
    "        try:\n",
    "            line = bdf_file.readline().rstrip()\n",
    "        except:\n",
    "            line = \"error\"\n",
    "            print(\"error at \" + str(iline))\n",
    "            print(\"check encode error\")\n",
    "            \n",
    "        iline += 1\n",
    "        lines.append(line)\n",
    "        \n",
    "        if line.find(\"END DATA\") != -1:\n",
    "            print(\"success!\")\n",
    "            break"
   ]
  },
  {
   "cell_type": "markdown",
   "metadata": {},
   "source": [
    "## Create pandas df"
   ]
  },
  {
   "cell_type": "code",
   "execution_count": 3,
   "metadata": {
    "ExecuteTime": {
     "end_time": "2018-11-13T21:26:50.828221Z",
     "start_time": "2018-11-13T21:26:50.150960Z"
    }
   },
   "outputs": [],
   "source": [
    "import pandas as pd\n",
    "df=pd.DataFrame(lines)\n",
    "df.columns=[\"text\"]"
   ]
  },
  {
   "cell_type": "code",
   "execution_count": 4,
   "metadata": {
    "ExecuteTime": {
     "end_time": "2018-11-13T21:26:52.014286Z",
     "start_time": "2018-11-13T21:26:51.991300Z"
    }
   },
   "outputs": [
    {
     "data": {
      "text/html": [
       "<div>\n",
       "<style scoped>\n",
       "    .dataframe tbody tr th:only-of-type {\n",
       "        vertical-align: middle;\n",
       "    }\n",
       "\n",
       "    .dataframe tbody tr th {\n",
       "        vertical-align: top;\n",
       "    }\n",
       "\n",
       "    .dataframe thead th {\n",
       "        text-align: right;\n",
       "    }\n",
       "</style>\n",
       "<table border=\"1\" class=\"dataframe\">\n",
       "  <thead>\n",
       "    <tr style=\"text-align: right;\">\n",
       "      <th></th>\n",
       "      <th>text</th>\n",
       "    </tr>\n",
       "  </thead>\n",
       "  <tbody>\n",
       "    <tr>\n",
       "      <th>0</th>\n",
       "      <td>$NASTRAN Data File Generated from OpenVSP 3.16.2</td>\n",
       "    </tr>\n",
       "    <tr>\n",
       "      <th>1</th>\n",
       "      <td>$Num_Tris: 3492</td>\n",
       "    </tr>\n",
       "    <tr>\n",
       "      <th>2</th>\n",
       "      <td>$Num_Beams 0</td>\n",
       "    </tr>\n",
       "    <tr>\n",
       "      <th>3</th>\n",
       "      <td></td>\n",
       "    </tr>\n",
       "    <tr>\n",
       "      <th>4</th>\n",
       "      <td>SET 1 = 1,2,3,4,5,6,7,8,9,</td>\n",
       "    </tr>\n",
       "  </tbody>\n",
       "</table>\n",
       "</div>"
      ],
      "text/plain": [
       "                                               text\n",
       "0  $NASTRAN Data File Generated from OpenVSP 3.16.2\n",
       "1                                   $Num_Tris: 3492\n",
       "2                                      $Num_Beams 0\n",
       "3                                                  \n",
       "4                        SET 1 = 1,2,3,4,5,6,7,8,9,"
      ]
     },
     "execution_count": 4,
     "metadata": {},
     "output_type": "execute_result"
    }
   ],
   "source": [
    "df.head()"
   ]
  },
  {
   "cell_type": "markdown",
   "metadata": {},
   "source": [
    "## Separate df"
   ]
  },
  {
   "cell_type": "markdown",
   "metadata": {},
   "source": [
    "### header"
   ]
  },
  {
   "cell_type": "code",
   "execution_count": 5,
   "metadata": {
    "ExecuteTime": {
     "end_time": "2018-11-13T21:26:53.747205Z",
     "start_time": "2018-11-13T21:26:53.720220Z"
    }
   },
   "outputs": [
    {
     "data": {
      "text/html": [
       "<div>\n",
       "<style scoped>\n",
       "    .dataframe tbody tr th:only-of-type {\n",
       "        vertical-align: middle;\n",
       "    }\n",
       "\n",
       "    .dataframe tbody tr th {\n",
       "        vertical-align: top;\n",
       "    }\n",
       "\n",
       "    .dataframe thead th {\n",
       "        text-align: right;\n",
       "    }\n",
       "</style>\n",
       "<table border=\"1\" class=\"dataframe\">\n",
       "  <thead>\n",
       "    <tr style=\"text-align: right;\">\n",
       "      <th></th>\n",
       "      <th>text</th>\n",
       "    </tr>\n",
       "  </thead>\n",
       "  <tbody>\n",
       "    <tr>\n",
       "      <th>1166</th>\n",
       "      <td>10443,10444,10445,10446,10447,10448,10449,1045...</td>\n",
       "    </tr>\n",
       "    <tr>\n",
       "      <th>1167</th>\n",
       "      <td>10452,10453,10454,10455,10456,10457,10458,1045...</td>\n",
       "    </tr>\n",
       "    <tr>\n",
       "      <th>1168</th>\n",
       "      <td>10461,10462,10463,10464,10465,10466,10467,1046...</td>\n",
       "    </tr>\n",
       "    <tr>\n",
       "      <th>1169</th>\n",
       "      <td>10470,10471,10472,10473,10474,10475,10476,1047...</td>\n",
       "    </tr>\n",
       "    <tr>\n",
       "      <th>1170</th>\n",
       "      <td></td>\n",
       "    </tr>\n",
       "  </tbody>\n",
       "</table>\n",
       "</div>"
      ],
      "text/plain": [
       "                                                   text\n",
       "1166  10443,10444,10445,10446,10447,10448,10449,1045...\n",
       "1167  10452,10453,10454,10455,10456,10457,10458,1045...\n",
       "1168  10461,10462,10463,10464,10465,10466,10467,1046...\n",
       "1169  10470,10471,10472,10473,10474,10475,10476,1047...\n",
       "1170                                                   "
      ]
     },
     "execution_count": 5,
     "metadata": {},
     "output_type": "execute_result"
    }
   ],
   "source": [
    "header_num = df[df[\"text\"].str.contains('BEGIN BULK')].index[0]\n",
    "header = df[:header_num]\n",
    "header.tail()"
   ]
  },
  {
   "cell_type": "markdown",
   "metadata": {},
   "source": [
    "### GRID(open vsp)"
   ]
  },
  {
   "cell_type": "code",
   "execution_count": 6,
   "metadata": {
    "ExecuteTime": {
     "end_time": "2018-11-13T21:26:55.077170Z",
     "start_time": "2018-11-13T21:26:55.021208Z"
    }
   },
   "outputs": [
    {
     "data": {
      "text/html": [
       "<div>\n",
       "<style scoped>\n",
       "    .dataframe tbody tr th:only-of-type {\n",
       "        vertical-align: middle;\n",
       "    }\n",
       "\n",
       "    .dataframe tbody tr th {\n",
       "        vertical-align: top;\n",
       "    }\n",
       "\n",
       "    .dataframe thead th {\n",
       "        text-align: right;\n",
       "    }\n",
       "</style>\n",
       "<table border=\"1\" class=\"dataframe\">\n",
       "  <thead>\n",
       "    <tr style=\"text-align: right;\">\n",
       "      <th></th>\n",
       "      <th>name</th>\n",
       "      <th>id</th>\n",
       "      <th>zahyo_kei</th>\n",
       "      <th>x</th>\n",
       "      <th>y</th>\n",
       "      <th>z</th>\n",
       "    </tr>\n",
       "  </thead>\n",
       "  <tbody>\n",
       "    <tr>\n",
       "      <th>1174</th>\n",
       "      <td>GRID</td>\n",
       "      <td>1</td>\n",
       "      <td></td>\n",
       "      <td>0.00000</td>\n",
       "      <td>0.00000</td>\n",
       "      <td>0.00000</td>\n",
       "    </tr>\n",
       "  </tbody>\n",
       "</table>\n",
       "</div>"
      ],
      "text/plain": [
       "      name        id zahyo_kei         x         y         z\n",
       "1174  GRID         1             0.00000   0.00000   0.00000"
      ]
     },
     "execution_count": 6,
     "metadata": {},
     "output_type": "execute_result"
    }
   ],
   "source": [
    "df_grid=df[df[\"text\"].str.contains('GRID')]\n",
    "df_grid = df_grid[\"text\"].str.split(',', expand=True)\n",
    "df_grid.columns = [\"name\",\"id\",\"zahyo_kei\",\"x\",\"y\",\"z\"]\n",
    "# df_grid.tail()\n",
    "df_grid.head(1)"
   ]
  },
  {
   "cell_type": "code",
   "execution_count": 7,
   "metadata": {
    "ExecuteTime": {
     "end_time": "2018-11-13T21:26:55.613765Z",
     "start_time": "2018-11-13T21:26:55.602773Z"
    }
   },
   "outputs": [
    {
     "data": {
      "text/html": [
       "<div>\n",
       "<style scoped>\n",
       "    .dataframe tbody tr th:only-of-type {\n",
       "        vertical-align: middle;\n",
       "    }\n",
       "\n",
       "    .dataframe tbody tr th {\n",
       "        vertical-align: top;\n",
       "    }\n",
       "\n",
       "    .dataframe thead th {\n",
       "        text-align: right;\n",
       "    }\n",
       "</style>\n",
       "<table border=\"1\" class=\"dataframe\">\n",
       "  <thead>\n",
       "    <tr style=\"text-align: right;\">\n",
       "      <th></th>\n",
       "      <th>text</th>\n",
       "    </tr>\n",
       "  </thead>\n",
       "  <tbody>\n",
       "    <tr>\n",
       "      <th>1171</th>\n",
       "      <td>BEGIN BULK</td>\n",
       "    </tr>\n",
       "    <tr>\n",
       "      <th>1172</th>\n",
       "      <td></td>\n",
       "    </tr>\n",
       "    <tr>\n",
       "      <th>1173</th>\n",
       "      <td>$Skin Gridpoints</td>\n",
       "    </tr>\n",
       "  </tbody>\n",
       "</table>\n",
       "</div>"
      ],
      "text/plain": [
       "                  text\n",
       "1171        BEGIN BULK\n",
       "1172                  \n",
       "1173  $Skin Gridpoints"
      ]
     },
     "execution_count": 7,
     "metadata": {},
     "output_type": "execute_result"
    }
   ],
   "source": [
    "df_grid_heder=df[header_num:df_grid.index[0]]\n",
    "df_grid_heder"
   ]
  },
  {
   "cell_type": "markdown",
   "metadata": {},
   "source": [
    "### CTRIA6(open vsp)"
   ]
  },
  {
   "cell_type": "code",
   "execution_count": 8,
   "metadata": {
    "ExecuteTime": {
     "end_time": "2018-11-13T21:27:00.419111Z",
     "start_time": "2018-11-13T21:27:00.412117Z"
    }
   },
   "outputs": [
    {
     "data": {
      "text/plain": [
       "8159"
      ]
     },
     "execution_count": 8,
     "metadata": {},
     "output_type": "execute_result"
    }
   ],
   "source": [
    "df_grid.tail(1).index[0]"
   ]
  },
  {
   "cell_type": "code",
   "execution_count": 9,
   "metadata": {
    "ExecuteTime": {
     "end_time": "2018-11-13T21:27:01.262044Z",
     "start_time": "2018-11-13T21:27:01.257049Z"
    }
   },
   "outputs": [],
   "source": [
    "CTRIA6_start = df_grid[len(df_grid)-1:].index[0]\n"
   ]
  },
  {
   "cell_type": "code",
   "execution_count": 10,
   "metadata": {
    "ExecuteTime": {
     "end_time": "2018-11-13T21:27:06.425735Z",
     "start_time": "2018-11-13T21:27:06.404743Z"
    }
   },
   "outputs": [],
   "source": [
    "df_CTRIA6=df[df[\"text\"].str.contains('CTRIA6')]\n",
    "CTRIA6_start_num = df_CTRIA6.head(1).index[0]\n",
    "CTRIA6_end_num = df_CTRIA6.tail(1).index[0]+2"
   ]
  },
  {
   "cell_type": "code",
   "execution_count": 11,
   "metadata": {
    "ExecuteTime": {
     "end_time": "2018-11-13T21:27:09.188272Z",
     "start_time": "2018-11-13T21:27:09.177280Z"
    }
   },
   "outputs": [
    {
     "data": {
      "text/html": [
       "<div>\n",
       "<style scoped>\n",
       "    .dataframe tbody tr th:only-of-type {\n",
       "        vertical-align: middle;\n",
       "    }\n",
       "\n",
       "    .dataframe tbody tr th {\n",
       "        vertical-align: top;\n",
       "    }\n",
       "\n",
       "    .dataframe thead th {\n",
       "        text-align: right;\n",
       "    }\n",
       "</style>\n",
       "<table border=\"1\" class=\"dataframe\">\n",
       "  <thead>\n",
       "    <tr style=\"text-align: right;\">\n",
       "      <th></th>\n",
       "      <th>text</th>\n",
       "    </tr>\n",
       "  </thead>\n",
       "  <tbody>\n",
       "    <tr>\n",
       "      <th>8166</th>\n",
       "      <td>CTRIA6,    6987,       1,       1,       2,   ...</td>\n",
       "    </tr>\n",
       "    <tr>\n",
       "      <th>8167</th>\n",
       "      <td>,-65.7132</td>\n",
       "    </tr>\n",
       "    <tr>\n",
       "      <th>8168</th>\n",
       "      <td>CTRIA6,    6988,       1,       7,       8,   ...</td>\n",
       "    </tr>\n",
       "    <tr>\n",
       "      <th>8169</th>\n",
       "      <td>,-0.04143</td>\n",
       "    </tr>\n",
       "    <tr>\n",
       "      <th>8170</th>\n",
       "      <td>CTRIA6,    6989,       1,      13,      14,   ...</td>\n",
       "    </tr>\n",
       "  </tbody>\n",
       "</table>\n",
       "</div>"
      ],
      "text/plain": [
       "                                                   text\n",
       "8166  CTRIA6,    6987,       1,       1,       2,   ...\n",
       "8167                                          ,-65.7132\n",
       "8168  CTRIA6,    6988,       1,       7,       8,   ...\n",
       "8169                                          ,-0.04143\n",
       "8170  CTRIA6,    6989,       1,      13,      14,   ..."
      ]
     },
     "execution_count": 11,
     "metadata": {},
     "output_type": "execute_result"
    }
   ],
   "source": [
    "df_tmp0 = df[CTRIA6_start_num:CTRIA6_end_num]\n",
    "df_tmp0.head()"
   ]
  },
  {
   "cell_type": "code",
   "execution_count": 12,
   "metadata": {
    "ExecuteTime": {
     "end_time": "2018-11-13T21:27:17.167948Z",
     "start_time": "2018-11-13T21:27:17.159955Z"
    }
   },
   "outputs": [],
   "source": [
    "df_tmp1 = df_tmp0[df_tmp0.index % 2 == 0]\n",
    "df_tmp2 = df_tmp0[df_tmp0.index % 2 != 0]"
   ]
  },
  {
   "cell_type": "code",
   "execution_count": 13,
   "metadata": {
    "ExecuteTime": {
     "end_time": "2018-11-13T21:27:17.910012Z",
     "start_time": "2018-11-13T21:27:17.904016Z"
    }
   },
   "outputs": [
    {
     "data": {
      "text/plain": [
       "(3492, 3492)"
      ]
     },
     "execution_count": 13,
     "metadata": {},
     "output_type": "execute_result"
    }
   ],
   "source": [
    "df_tmp1.size,df_tmp2.size"
   ]
  },
  {
   "cell_type": "code",
   "execution_count": 17,
   "metadata": {
    "ExecuteTime": {
     "end_time": "2018-11-13T21:28:33.920550Z",
     "start_time": "2018-11-13T21:28:33.913554Z"
    }
   },
   "outputs": [],
   "source": [
    "df_test = pd.DataFrame(df_tmp1[\"text\"],df_tmp2[\"text\"])"
   ]
  },
  {
   "cell_type": "code",
   "execution_count": 21,
   "metadata": {
    "ExecuteTime": {
     "end_time": "2018-11-13T21:29:21.564537Z",
     "start_time": "2018-11-13T21:29:21.556541Z"
    }
   },
   "outputs": [
    {
     "data": {
      "text/plain": [
       "8166     CTRIA6,    6987,       1,       1,       2,   ...\n",
       "8168     CTRIA6,    6988,       1,       7,       8,   ...\n",
       "8170     CTRIA6,    6989,       1,      13,      14,   ...\n",
       "8172     CTRIA6,    6990,       1,      19,      20,   ...\n",
       "8174     CTRIA6,    6991,       1,      25,      26,   ...\n",
       "8176     CTRIA6,    6992,       1,      31,      32,   ...\n",
       "8178     CTRIA6,    6993,       1,      37,      38,   ...\n",
       "8180     CTRIA6,    6994,       1,      43,      44,   ...\n",
       "8182     CTRIA6,    6995,       1,      49,      50,   ...\n",
       "8184     CTRIA6,    6996,       1,      49,      55,   ...\n",
       "8186     CTRIA6,    6997,       1,      60,      61,   ...\n",
       "8188     CTRIA6,    6998,       1,      66,      37,   ...\n",
       "8190     CTRIA6,    6999,       1,      71,      72,   ...\n",
       "8192     CTRIA6,    7000,       1,      77,      78,   ...\n",
       "8194     CTRIA6,    7001,       1,      66,      67,   ...\n",
       "8196     CTRIA6,    7002,       1,      86,      87,   ...\n",
       "8198     CTRIA6,    7003,       1,      92,      93,   ...\n",
       "8200     CTRIA6,    7004,       1,      98,      99,   ...\n",
       "8202     CTRIA6,    7005,       1,     104,     105,   ...\n",
       "8204     CTRIA6,    7006,       1,     110,     105,   ...\n",
       "8206     CTRIA6,    7007,       1,      71,     115,   ...\n",
       "8208     CTRIA6,    7008,       1,     118,     119,   ...\n",
       "8210     CTRIA6,    7009,       1,     124,     125,   ...\n",
       "8212     CTRIA6,    7010,       1,     104,     130,   ...\n",
       "8214     CTRIA6,    7011,       1,     135,     136,   ...\n",
       "8216     CTRIA6,    7012,       1,     140,     141,   ...\n",
       "8218     CTRIA6,    7013,       1,     140,       9,   ...\n",
       "8220     CTRIA6,    7014,       1,     148,     149,   ...\n",
       "8222     CTRIA6,    7015,       1,      20,     154,   ...\n",
       "8224     CTRIA6,    7016,       1,      98,     159,   ...\n",
       "                               ...                        \n",
       "15090    CTRIA6,   10449,       1,    6391,    6343,   ...\n",
       "15092    CTRIA6,   10450,       1,    6825,    6391,   ...\n",
       "15094    CTRIA6,   10451,       1,    6448,    3818,   ...\n",
       "15096    CTRIA6,   10452,       1,    6825,    6451,   ...\n",
       "15098    CTRIA6,   10453,       1,    6391,    6825,   ...\n",
       "15100    CTRIA6,   10454,       1,    6398,    6391,   ...\n",
       "15102    CTRIA6,   10455,       1,    6328,    6327,   ...\n",
       "15104    CTRIA6,   10456,       1,    6398,    6949,   ...\n",
       "15106    CTRIA6,   10457,       1,    6373,    6967,   ...\n",
       "15108    CTRIA6,   10458,       1,    6804,    6677,   ...\n",
       "15110    CTRIA6,   10459,       1,    6373,    6940,   ...\n",
       "15112    CTRIA6,   10460,       1,    6804,    6967,   ...\n",
       "15114    CTRIA6,   10461,       1,    6270,    3258,   ...\n",
       "15116    CTRIA6,   10462,       1,    6273,    6885,   ...\n",
       "15118    CTRIA6,   10463,       1,    6528,    6316,   ...\n",
       "15120    CTRIA6,   10464,       1,    6547,    6528,   ...\n",
       "15122    CTRIA6,   10465,       1,    6472,    6541,   ...\n",
       "15124    CTRIA6,   10466,       1,    6547,    6473,   ...\n",
       "15126    CTRIA6,   10467,       1,    6579,    6276,   ...\n",
       "15128    CTRIA6,   10468,       1,    2891,    6270,   ...\n",
       "15130    CTRIA6,   10469,       1,    6579,    3738,   ...\n",
       "15132    CTRIA6,   10470,       1,    3738,      25,   ...\n",
       "15134    CTRIA6,   10471,       1,    6305,    3750,   ...\n",
       "15136    CTRIA6,   10472,       1,    6305,    6952,   ...\n",
       "15138    CTRIA6,   10473,       1,    6952,    6980,   ...\n",
       "15140    CTRIA6,   10474,       1,    6515,    6952,   ...\n",
       "15142    CTRIA6,   10475,       1,    3752,    6980,   ...\n",
       "15144    CTRIA6,   10476,       1,    6904,    6520,   ...\n",
       "15146    CTRIA6,   10477,       1,    3752,    3906,   ...\n",
       "15148    CTRIA6,   10478,       1,    6904,    6980,   ...\n",
       "Name: text, Length: 3492, dtype: object"
      ]
     },
     "execution_count": 21,
     "metadata": {},
     "output_type": "execute_result"
    }
   ],
   "source": [
    "df_tmp1[\"text\"]"
   ]
  },
  {
   "cell_type": "code",
   "execution_count": null,
   "metadata": {},
   "outputs": [],
   "source": []
  }
 ],
 "metadata": {
  "kernelspec": {
   "display_name": "Python 3",
   "language": "python",
   "name": "python3"
  },
  "language_info": {
   "codemirror_mode": {
    "name": "ipython",
    "version": 3
   },
   "file_extension": ".py",
   "mimetype": "text/x-python",
   "name": "python",
   "nbconvert_exporter": "python",
   "pygments_lexer": "ipython3",
   "version": "3.6.6"
  },
  "toc": {
   "base_numbering": 1,
   "nav_menu": {},
   "number_sections": true,
   "sideBar": true,
   "skip_h1_title": false,
   "title_cell": "Table of Contents",
   "title_sidebar": "Contents",
   "toc_cell": false,
   "toc_position": {},
   "toc_section_display": true,
   "toc_window_display": false
  },
  "varInspector": {
   "cols": {
    "lenName": 16,
    "lenType": 16,
    "lenVar": 40
   },
   "kernels_config": {
    "python": {
     "delete_cmd_postfix": "",
     "delete_cmd_prefix": "del ",
     "library": "var_list.py",
     "varRefreshCmd": "print(var_dic_list())"
    },
    "r": {
     "delete_cmd_postfix": ") ",
     "delete_cmd_prefix": "rm(",
     "library": "var_list.r",
     "varRefreshCmd": "cat(var_dic_list()) "
    }
   },
   "types_to_exclude": [
    "module",
    "function",
    "builtin_function_or_method",
    "instance",
    "_Feature"
   ],
   "window_display": false
  }
 },
 "nbformat": 4,
 "nbformat_minor": 2
}
